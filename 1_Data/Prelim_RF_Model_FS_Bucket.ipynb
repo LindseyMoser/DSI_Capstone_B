{
 "cells": [
  {
   "cell_type": "code",
   "execution_count": 1,
   "metadata": {},
   "outputs": [],
   "source": [
    "import pandas as pd\n",
    "import numpy as np\n",
    "import matplotlib.pyplot as plt\n",
    "%matplotlib inline\n",
    "import seaborn as sns\n",
    "sns.set_style('whitegrid')\n",
    "import warnings\n",
    "warnings.filterwarnings('ignore')\n",
    "from sklearn.ensemble import RandomForestClassifier\n",
    "from sklearn.metrics import confusion_matrix, precision_recall_curve, auc, roc_curve\n",
    "from sklearn.model_selection import cross_validate"
   ]
  },
  {
   "cell_type": "code",
   "execution_count": 2,
   "metadata": {},
   "outputs": [],
   "source": [
    "from get_clean_data_RF import get_data, clean_data"
   ]
  },
  {
   "cell_type": "code",
   "execution_count": 3,
   "metadata": {},
   "outputs": [],
   "source": [
    "prelim_df = get_data()"
   ]
  },
  {
   "cell_type": "code",
   "execution_count": 4,
   "metadata": {},
   "outputs": [],
   "source": [
    "X_clean, y_clean = clean_data(prelim_df, True)"
   ]
  },
  {
   "cell_type": "code",
   "execution_count": 5,
   "metadata": {
    "scrolled": true
   },
   "outputs": [
    {
     "data": {
      "text/plain": [
       "0               FS > 100%\n",
       "1        90% < FS <= 100%\n",
       "2               FS > 100%\n",
       "3        90% < FS <= 100%\n",
       "4               FS > 100%\n",
       "5               FS > 100%\n",
       "6               FS > 100%\n",
       "7               FS > 100%\n",
       "8               FS > 100%\n",
       "9        90% < FS <= 100%\n",
       "10              FS > 100%\n",
       "11        80% < FS <= 90%\n",
       "12        80% < FS <= 90%\n",
       "13        80% < FS <= 90%\n",
       "14        80% < FS <= 90%\n",
       "15        80% < FS <= 90%\n",
       "16        80% < FS <= 90%\n",
       "17              FS > 100%\n",
       "18       90% < FS <= 100%\n",
       "19       90% < FS <= 100%\n",
       "20              FS > 100%\n",
       "21              FS > 100%\n",
       "22              FS > 100%\n",
       "23              FS > 100%\n",
       "24              FS > 100%\n",
       "25              FS > 100%\n",
       "26              FS > 100%\n",
       "27              FS > 100%\n",
       "28              FS > 100%\n",
       "29        80% < FS <= 90%\n",
       "               ...       \n",
       "24243           FS > 100%\n",
       "24244           FS > 100%\n",
       "24245           FS > 100%\n",
       "24246           FS > 100%\n",
       "24247           FS > 100%\n",
       "24248           FS > 100%\n",
       "24249           FS > 100%\n",
       "24250    90% < FS <= 100%\n",
       "24251    90% < FS <= 100%\n",
       "24252           FS > 100%\n",
       "24253    90% < FS <= 100%\n",
       "24254           FS > 100%\n",
       "24255    90% < FS <= 100%\n",
       "24256    90% < FS <= 100%\n",
       "24257    90% < FS <= 100%\n",
       "24258    90% < FS <= 100%\n",
       "24259    90% < FS <= 100%\n",
       "24260    90% < FS <= 100%\n",
       "24261     80% < FS <= 90%\n",
       "24262           FS > 100%\n",
       "24263     80% < FS <= 90%\n",
       "24264     80% < FS <= 90%\n",
       "24265           FS > 100%\n",
       "24266           FS > 100%\n",
       "24267           FS > 100%\n",
       "24268           FS > 100%\n",
       "24269           FS > 100%\n",
       "24270           FS > 100%\n",
       "24271           FS > 100%\n",
       "24272    90% < FS <= 100%\n",
       "Length: 24225, dtype: object"
      ]
     },
     "execution_count": 5,
     "metadata": {},
     "output_type": "execute_result"
    }
   ],
   "source": [
    "y_clean"
   ]
  },
  {
   "cell_type": "markdown",
   "metadata": {},
   "source": [
    "<h2>Random Forest Classifier</h2>"
   ]
  },
  {
   "cell_type": "code",
   "execution_count": 26,
   "metadata": {},
   "outputs": [],
   "source": [
    "rfc = RandomForestClassifier(n_estimators=1000, max_depth=6)"
   ]
  },
  {
   "cell_type": "code",
   "execution_count": 27,
   "metadata": {},
   "outputs": [],
   "source": [
    "groups = y_clean.unique()"
   ]
  },
  {
   "cell_type": "code",
   "execution_count": 28,
   "metadata": {},
   "outputs": [
    {
     "data": {
      "text/plain": [
       "array(['FS > 100%', '90% < FS <= 100%', '80% < FS <= 90%',\n",
       "       '60% < FS <= 80%', 'FS <= 60%'], dtype=object)"
      ]
     },
     "execution_count": 28,
     "metadata": {},
     "output_type": "execute_result"
    }
   ],
   "source": [
    "groups"
   ]
  },
  {
   "cell_type": "code",
   "execution_count": 29,
   "metadata": {},
   "outputs": [],
   "source": [
    "cv_results = cross_validate(rfc, X_clean, y=y_clean, n_jobs=-1, cv=5)"
   ]
  },
  {
   "cell_type": "code",
   "execution_count": 23,
   "metadata": {},
   "outputs": [
    {
     "data": {
      "text/plain": [
       "['fit_time', 'score_time', 'test_score', 'train_score']"
      ]
     },
     "execution_count": 23,
     "metadata": {},
     "output_type": "execute_result"
    }
   ],
   "source": [
    "sorted(cv_results.keys()) "
   ]
  },
  {
   "cell_type": "code",
   "execution_count": 30,
   "metadata": {},
   "outputs": [
    {
     "data": {
      "text/plain": [
       "array([0.70002063, 0.7001032 , 0.68503612, 0.68978328, 0.68717737])"
      ]
     },
     "execution_count": 30,
     "metadata": {},
     "output_type": "execute_result"
    }
   ],
   "source": [
    "cv_results['test_score']"
   ]
  },
  {
   "cell_type": "code",
   "execution_count": 31,
   "metadata": {},
   "outputs": [
    {
     "data": {
      "text/plain": [
       "array([0.69914336, 0.700516  , 0.70454076, 0.70330237, 0.70400371])"
      ]
     },
     "execution_count": 31,
     "metadata": {},
     "output_type": "execute_result"
    }
   ],
   "source": [
    "cv_results['train_score']"
   ]
  },
  {
   "cell_type": "code",
   "execution_count": 19,
   "metadata": {},
   "outputs": [
    {
     "data": {
      "text/plain": [
       "RandomForestClassifier(bootstrap=True, class_weight=None, criterion='gini',\n",
       "            max_depth=2, max_features='auto', max_leaf_nodes=None,\n",
       "            min_impurity_decrease=0.0, min_impurity_split=None,\n",
       "            min_samples_leaf=1, min_samples_split=2,\n",
       "            min_weight_fraction_leaf=0.0, n_estimators=500, n_jobs=1,\n",
       "            oob_score=False, random_state=None, verbose=0,\n",
       "            warm_start=False)"
      ]
     },
     "execution_count": 19,
     "metadata": {},
     "output_type": "execute_result"
    }
   ],
   "source": [
    "rfc.fit(X_clean, y_clean)"
   ]
  },
  {
   "cell_type": "code",
   "execution_count": 20,
   "metadata": {},
   "outputs": [
    {
     "data": {
      "text/plain": [
       "0.6513519091847265"
      ]
     },
     "execution_count": 20,
     "metadata": {},
     "output_type": "execute_result"
    }
   ],
   "source": [
    "rfc.score(X_clean, y_clean)"
   ]
  },
  {
   "cell_type": "code",
   "execution_count": null,
   "metadata": {},
   "outputs": [],
   "source": []
  }
 ],
 "metadata": {
  "kernelspec": {
   "display_name": "Python 3",
   "language": "python",
   "name": "python3"
  },
  "language_info": {
   "codemirror_mode": {
    "name": "ipython",
    "version": 3
   },
   "file_extension": ".py",
   "mimetype": "text/x-python",
   "name": "python",
   "nbconvert_exporter": "python",
   "pygments_lexer": "ipython3",
   "version": "3.6.4"
  }
 },
 "nbformat": 4,
 "nbformat_minor": 2
}
