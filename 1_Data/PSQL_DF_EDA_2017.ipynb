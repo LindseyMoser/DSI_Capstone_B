{
 "cells": [
  {
   "cell_type": "code",
   "execution_count": 1,
   "metadata": {},
   "outputs": [],
   "source": [
    "import psycopg2\n",
    "import json\n",
    "import pandas as pd\n",
    "import numpy as np\n",
    "import matplotlib.pyplot as plt\n",
    "%matplotlib inline\n",
    "import seaborn as sns\n",
    "sns.set_style('darkgrid')\n",
    "import warnings\n",
    "warnings.filterwarnings('ignore')"
   ]
  },
  {
   "cell_type": "code",
   "execution_count": 2,
   "metadata": {},
   "outputs": [],
   "source": [
    "with open('form5500_data/config.json') as f:\n",
    "   conf = json.load(f)\n",
    "   host = conf['host']\n",
    "   database = conf['database']\n",
    "   user = conf['user']\n",
    "   passw = conf['passw']"
   ]
  },
  {
   "cell_type": "code",
   "execution_count": 3,
   "metadata": {},
   "outputs": [],
   "source": [
    "conn_str = \"host={} dbname={} user={} password={}\".format(host, database, user, passw)"
   ]
  },
  {
   "cell_type": "code",
   "execution_count": 4,
   "metadata": {},
   "outputs": [],
   "source": [
    "conn = psycopg2.connect(conn_str)"
   ]
  },
  {
   "cell_type": "markdown",
   "metadata": {},
   "source": [
    "<h3>Query - selected fields for 2017 only</h3>"
   ]
  },
  {
   "cell_type": "code",
   "execution_count": 5,
   "metadata": {},
   "outputs": [],
   "source": [
    "query = \"SELECT sb.SB_EIN, sb.SB_PN, sb.SB_TOT_PARTCP_CNT, sb.SB_EFF_INT_RATE_PRCNT, sb.SB_FNDNG_SHORT_IND, \\\n",
    "       sb.SB_PR_YR_FNDNG_PRCNT, sb.SB_PLAN_TYPE_CODE, \\\n",
    "       f.BUSINESS_CODE, f.SCH_SB_ATTACHED_IND, sb.SB_FNDNG_TGT_PRCNT \\\n",
    "FROM sb_full sb \\\n",
    "LEFT JOIN f5500_full f \\\n",
    "ON sb.SB_EIN = f.SPONS_DFE_EIN AND sb.SB_PN = f.SPONS_DFE_PN \\\n",
    "WHERE sb.SB_PLAN_YEAR_BEGIN_DATE BETWEEN '2017-01-01' AND '2017-12-31';\""
   ]
  },
  {
   "cell_type": "code",
   "execution_count": 6,
   "metadata": {},
   "outputs": [],
   "source": [
    "eda_df = pd.read_sql(query, con=conn)"
   ]
  },
  {
   "cell_type": "markdown",
   "metadata": {},
   "source": [
    "<h3>Check null count by column</h3>"
   ]
  },
  {
   "cell_type": "code",
   "execution_count": 7,
   "metadata": {},
   "outputs": [
    {
     "name": "stdout",
     "output_type": "stream",
     "text": [
      "Total records: 24273,\n",
      "Null distribution:\n",
      "sb_ein                       0\n",
      "sb_pn                        0\n",
      "sb_tot_partcp_cnt           29\n",
      "sb_eff_int_rate_prcnt       35\n",
      "sb_fndng_short_ind          39\n",
      "sb_pr_yr_fndng_prcnt       181\n",
      "sb_plan_type_code            0\n",
      "business_code            15043\n",
      "sch_sb_attached_ind      15082\n",
      "sb_fndng_tgt_prcnt          20\n",
      "dtype: int64\n"
     ]
    }
   ],
   "source": [
    "print('Total records: {},\\nNull distribution:\\n{}'.format(len(eda_df), eda_df.isna().sum()))\n"
   ]
  },
  {
   "cell_type": "code",
   "execution_count": 8,
   "metadata": {},
   "outputs": [
    {
     "data": {
      "text/plain": [
       "sb_ein                   24273\n",
       "sb_pn                    24273\n",
       "sb_tot_partcp_cnt        24244\n",
       "sb_eff_int_rate_prcnt    24238\n",
       "sb_fndng_short_ind       24234\n",
       "sb_pr_yr_fndng_prcnt     24092\n",
       "sb_plan_type_code        24273\n",
       "business_code             9230\n",
       "sch_sb_attached_ind       9191\n",
       "sb_fndng_tgt_prcnt       24253\n",
       "dtype: int64"
      ]
     },
     "execution_count": 8,
     "metadata": {},
     "output_type": "execute_result"
    }
   ],
   "source": [
    "pd.notnull(eda_df).sum()"
   ]
  },
  {
   "cell_type": "markdown",
   "metadata": {},
   "source": [
    "<h3>Drop all nulls for now </h3>"
   ]
  },
  {
   "cell_type": "code",
   "execution_count": 9,
   "metadata": {},
   "outputs": [],
   "source": [
    "eda_df2 = eda_df.dropna()"
   ]
  },
  {
   "cell_type": "code",
   "execution_count": 10,
   "metadata": {},
   "outputs": [
    {
     "data": {
      "text/plain": [
       "sb_ein                   9113\n",
       "sb_pn                    9113\n",
       "sb_tot_partcp_cnt        9113\n",
       "sb_eff_int_rate_prcnt    9113\n",
       "sb_fndng_short_ind       9113\n",
       "sb_pr_yr_fndng_prcnt     9113\n",
       "sb_plan_type_code        9113\n",
       "business_code            9113\n",
       "sch_sb_attached_ind      9113\n",
       "sb_fndng_tgt_prcnt       9113\n",
       "dtype: int64"
      ]
     },
     "execution_count": 10,
     "metadata": {},
     "output_type": "execute_result"
    }
   ],
   "source": [
    "pd.notnull(eda_df2).sum()"
   ]
  },
  {
   "cell_type": "code",
   "execution_count": 11,
   "metadata": {},
   "outputs": [
    {
     "data": {
      "text/plain": [
       "sb_ein                   9113\n",
       "sb_pn                    9113\n",
       "sb_tot_partcp_cnt        9113\n",
       "sb_eff_int_rate_prcnt    9113\n",
       "sb_fndng_short_ind       9113\n",
       "sb_pr_yr_fndng_prcnt     9113\n",
       "sb_plan_type_code        9113\n",
       "business_code            9113\n",
       "sch_sb_attached_ind      9113\n",
       "sb_fndng_tgt_prcnt       9113\n",
       "dtype: int64"
      ]
     },
     "execution_count": 11,
     "metadata": {},
     "output_type": "execute_result"
    }
   ],
   "source": [
    "pd.notnull(eda_df2).sum()"
   ]
  },
  {
   "cell_type": "code",
   "execution_count": 12,
   "metadata": {
    "scrolled": true
   },
   "outputs": [
    {
     "name": "stdout",
     "output_type": "stream",
     "text": [
      "<class 'pandas.core.frame.DataFrame'>\n",
      "Int64Index: 9113 entries, 19 to 24271\n",
      "Data columns (total 10 columns):\n",
      "sb_ein                   9113 non-null int64\n",
      "sb_pn                    9113 non-null int64\n",
      "sb_tot_partcp_cnt        9113 non-null object\n",
      "sb_eff_int_rate_prcnt    9113 non-null float64\n",
      "sb_fndng_short_ind       9113 non-null object\n",
      "sb_pr_yr_fndng_prcnt     9113 non-null float64\n",
      "sb_plan_type_code        9113 non-null object\n",
      "business_code            9113 non-null object\n",
      "sch_sb_attached_ind      9113 non-null object\n",
      "sb_fndng_tgt_prcnt       9113 non-null float64\n",
      "dtypes: float64(3), int64(2), object(5)\n",
      "memory usage: 783.1+ KB\n"
     ]
    }
   ],
   "source": [
    "eda_df2.info()"
   ]
  },
  {
   "cell_type": "markdown",
   "metadata": {},
   "source": [
    "<h3>Create integer versions of feature columns</h3>"
   ]
  },
  {
   "cell_type": "markdown",
   "metadata": {},
   "source": [
    "<h3>Participant count</h3>"
   ]
  },
  {
   "cell_type": "code",
   "execution_count": 13,
   "metadata": {},
   "outputs": [],
   "source": [
    "eda_df2['sb_tot_partcp_cnt'] = pd.to_numeric(eda_df2['sb_tot_partcp_cnt'])"
   ]
  },
  {
   "cell_type": "markdown",
   "metadata": {},
   "source": [
    "<h3>Prior year shortfall indicator</h3>"
   ]
  },
  {
   "cell_type": "code",
   "execution_count": 14,
   "metadata": {},
   "outputs": [
    {
     "data": {
      "text/plain": [
       "array(['2', '1'], dtype=object)"
      ]
     },
     "execution_count": 14,
     "metadata": {},
     "output_type": "execute_result"
    }
   ],
   "source": [
    "eda_df2['sb_fndng_short_ind'].unique()"
   ]
  },
  {
   "cell_type": "code",
   "execution_count": 15,
   "metadata": {},
   "outputs": [],
   "source": [
    "eda_df2['sb_fndng_short_ind'] = pd.to_numeric(eda_df2['sb_fndng_short_ind'])"
   ]
  },
  {
   "cell_type": "markdown",
   "metadata": {},
   "source": [
    "<h3>Create new column for left 2 digits of business code\n",
    "<br>Make dummies</h3>\n"
   ]
  },
  {
   "cell_type": "code",
   "execution_count": 16,
   "metadata": {},
   "outputs": [],
   "source": [
    "eda_df2['sector'] = pd.to_numeric(eda_df2['business_code'].str[:2])"
   ]
  },
  {
   "cell_type": "code",
   "execution_count": 17,
   "metadata": {},
   "outputs": [],
   "source": [
    "eda_df2 = pd.concat([eda_df2, pd.get_dummies(eda_df2['sector'].values, prefix_sep='_')],axis=1)"
   ]
  },
  {
   "cell_type": "code",
   "execution_count": 18,
   "metadata": {},
   "outputs": [],
   "source": [
    "eda_df2.drop('sch_sb_attached_ind', inplace=True, axis=1)\n",
    "eda_df2.drop('sb_ein', inplace=True, axis=1)\n",
    "eda_df2.drop('sb_pn', inplace=True, axis=1)\n",
    "eda_df2.drop('business_code', inplace=True, axis=1)\n",
    "eda_df2.drop('sb_plan_type_code', inplace=True, axis=1)"
   ]
  },
  {
   "cell_type": "code",
   "execution_count": 19,
   "metadata": {
    "scrolled": true
   },
   "outputs": [
    {
     "name": "stdout",
     "output_type": "stream",
     "text": [
      "<class 'pandas.core.frame.DataFrame'>\n",
      "Int64Index: 14871 entries, 0 to 24271\n",
      "Data columns (total 30 columns):\n",
      "sb_tot_partcp_cnt        9113 non-null float64\n",
      "sb_eff_int_rate_prcnt    9113 non-null float64\n",
      "sb_fndng_short_ind       9113 non-null float64\n",
      "sb_pr_yr_fndng_prcnt     9113 non-null float64\n",
      "sb_fndng_tgt_prcnt       9113 non-null float64\n",
      "sector                   9113 non-null float64\n",
      "11                       9113 non-null float64\n",
      "21                       9113 non-null float64\n",
      "22                       9113 non-null float64\n",
      "23                       9113 non-null float64\n",
      "31                       9113 non-null float64\n",
      "32                       9113 non-null float64\n",
      "33                       9113 non-null float64\n",
      "42                       9113 non-null float64\n",
      "44                       9113 non-null float64\n",
      "45                       9113 non-null float64\n",
      "48                       9113 non-null float64\n",
      "49                       9113 non-null float64\n",
      "51                       9113 non-null float64\n",
      "52                       9113 non-null float64\n",
      "53                       9113 non-null float64\n",
      "54                       9113 non-null float64\n",
      "55                       9113 non-null float64\n",
      "56                       9113 non-null float64\n",
      "61                       9113 non-null float64\n",
      "62                       9113 non-null float64\n",
      "71                       9113 non-null float64\n",
      "72                       9113 non-null float64\n",
      "81                       9113 non-null float64\n",
      "92                       9113 non-null float64\n",
      "dtypes: float64(30)\n",
      "memory usage: 3.5 MB\n"
     ]
    }
   ],
   "source": [
    "eda_df2.info()"
   ]
  },
  {
   "cell_type": "markdown",
   "metadata": {},
   "source": [
    "<h3>Combine dummies and other features into X featureset</h3>"
   ]
  },
  {
   "cell_type": "code",
   "execution_count": 23,
   "metadata": {},
   "outputs": [],
   "source": [
    "y_fs = eda_df2['sb_fndng_tgt_prcnt'].values"
   ]
  },
  {
   "cell_type": "code",
   "execution_count": 25,
   "metadata": {
    "scrolled": true
   },
   "outputs": [],
   "source": [
    "eda_df2.drop('sb_fndng_tgt_prcnt', inplace=True, axis=1)"
   ]
  },
  {
   "cell_type": "code",
   "execution_count": null,
   "metadata": {},
   "outputs": [],
   "source": [
    "def clean_data(df, train=False):\n",
    "    '''This is all the data \"cleaning\" for now...will revisit after \n",
    "       further EDA\n",
    "    '''\n",
    "    df_clean = df.dropna()\n",
    "    \n",
    "    #convert string values to integers where appropriate\n",
    "    df_clean['sb_tot_partcp_cnt'] = pd.to_numeric(df_clean['sb_tot_partcp_cnt'])\n",
    "    df_clean['sb_fndng_short_ind'] = pd.to_numeric(df_clean['sb_fndng_short_ind'])\n",
    "    #drop un-needed columns\n",
    "    df_clean.drop('sch_sb_attached_ind', inplace=True, axis=1)\n",
    "    df_clean.drop('sb_ein', inplace=True, axis=1)\n",
    "    df_clean.drop('sb_pn', inplace=True, axis=1)\n",
    "    #create new column for sector\n",
    "    df_clean['sector'] = pd.to_numeric(df_clean['business_code'].str[:2])\n",
    "    \n",
    "    if train:\n",
    "        y=df_clean['sb_fndng_tgt_prcnt'].pop\n",
    "        return df_clean, y\n",
    "    else:\n",
    "        return df_clean"
   ]
  },
  {
   "cell_type": "markdown",
   "metadata": {},
   "source": [
    "<h1>Features EDA</h1>"
   ]
  },
  {
   "cell_type": "code",
   "execution_count": null,
   "metadata": {},
   "outputs": [],
   "source": [
    "from pandas.plotting import scatter_matrix"
   ]
  },
  {
   "cell_type": "code",
   "execution_count": null,
   "metadata": {},
   "outputs": [],
   "source": [
    "X2 = prelim_feat_df[['ptp_cnt', 'sb_eff_int_rate_prcnt', 'sf_ind', \\\n",
    "                         'sb_pr_yr_fndng_prcnt', 'sb_fndng_tgt_prcnt', \\\n",
    "                          'sb_plan_type_code']]"
   ]
  },
  {
   "cell_type": "code",
   "execution_count": null,
   "metadata": {},
   "outputs": [],
   "source": [
    "plt.style.use(['dark_background'])\n",
    "scatter_matrix(X2, alpha=0.6, figsize=(12, 12), diagonal='hist', hist_kwds={'bins':100})\n",
    "plt.show()"
   ]
  },
  {
   "cell_type": "markdown",
   "metadata": {},
   "source": [
    "<h3>EIR - restrict to values between 1 and 10 (appear to be invalid data entries)</h3>"
   ]
  },
  {
   "cell_type": "code",
   "execution_count": null,
   "metadata": {},
   "outputs": [],
   "source": [
    "X2[X2['ptp_cnt']<=100].describe()"
   ]
  },
  {
   "cell_type": "code",
   "execution_count": null,
   "metadata": {
    "scrolled": true
   },
   "outputs": [],
   "source": [
    "plt.hist(X2[(X2['ptp_cnt']<4000) & (X2['ptp_cnt']>100)]['ptp_cnt'],bins=100)\n",
    "plt.title('Distribution of Participant Count (100 < PC < 4000)')\n",
    "plt.show()"
   ]
  },
  {
   "cell_type": "code",
   "execution_count": null,
   "metadata": {},
   "outputs": [],
   "source": [
    "eir_nonzero = X2[(X2['sb_eff_int_rate_prcnt'] >1) & (X2['sb_eff_int_rate_prcnt'] < 10) \\\n",
    "                & (X2['sb_fndng_tgt_prcnt'] > 0) & (X2['sb_fndng_tgt_prcnt'] < 400) & (X2['sb_plan_type_code'] == '1')]\n",
    "y_eirnonzero = eir_nonzero['sb_fndng_tgt_prcnt'].values"
   ]
  },
  {
   "cell_type": "code",
   "execution_count": null,
   "metadata": {},
   "outputs": [],
   "source": [
    "eir_nonzero.shape, y_eirnonzero.shape, eir_nonzero['sb_eff_int_rate_prcnt'].shape"
   ]
  },
  {
   "cell_type": "code",
   "execution_count": null,
   "metadata": {},
   "outputs": [],
   "source": [
    "eir_nonzero['sb_eff_int_rate_prcnt'].describe()"
   ]
  },
  {
   "cell_type": "code",
   "execution_count": null,
   "metadata": {},
   "outputs": [],
   "source": [
    "plt.hist(eir_nonzero['sb_eff_int_rate_prcnt'],bins=100)\n",
    "plt.title('Distribution of EIR (1.0 < EIR < 10.0)')\n",
    "plt.show()"
   ]
  },
  {
   "cell_type": "code",
   "execution_count": null,
   "metadata": {},
   "outputs": [],
   "source": [
    "fig, ax = plt.subplots(1,1,figsize=(8,8))\n",
    "#plt.scatter(X['sb_pr_yr_fndng_prcnt'], y_fs)\n",
    "plt.scatter(eir_nonzero['sb_eff_int_rate_prcnt'], y_eirnonzero)\n",
    "plt.xlabel('Effective Interest Rate')\n",
    "plt.ylabel('Funded Status (AVA basis)')\n",
    "plt.title('FS vs EIR')\n",
    "plt.show()"
   ]
  },
  {
   "cell_type": "code",
   "execution_count": null,
   "metadata": {
    "scrolled": true
   },
   "outputs": [],
   "source": [
    "pd.DataFrame(eir_nonzero['sb_eff_int_rate_prcnt']).boxplot(sym=)\n",
    "plt.show()"
   ]
  },
  {
   "cell_type": "code",
   "execution_count": null,
   "metadata": {},
   "outputs": [],
   "source": [
    "sns.boxplot(pd.DataFrame(eir_nonzero['sb_eff_int_rate_prcnt']))\n",
    "plt.title('Boxplot of EIR')\n",
    "plt.show()"
   ]
  },
  {
   "cell_type": "code",
   "execution_count": null,
   "metadata": {},
   "outputs": [],
   "source": [
    "eir_nonzero['sb_eff_int_rate_prcnt'].describe()"
   ]
  },
  {
   "cell_type": "code",
   "execution_count": null,
   "metadata": {},
   "outputs": [],
   "source": [
    "sns.boxplot(prelim_feat_df['sb_fndng_tgt_prcnt'])\n",
    "plt.title('Boxplot of FS - all plans')\n",
    "plt.show()"
   ]
  },
  {
   "cell_type": "code",
   "execution_count": null,
   "metadata": {},
   "outputs": [],
   "source": [
    "sns.boxplot(eir_nonzero['sb_fndng_tgt_prcnt'])\n",
    "plt.title('Boxplot of FS (0<FS<400%)')\n",
    "plt.show()"
   ]
  },
  {
   "cell_type": "code",
   "execution_count": null,
   "metadata": {},
   "outputs": [],
   "source": []
  }
 ],
 "metadata": {
  "kernelspec": {
   "display_name": "Python 3",
   "language": "python",
   "name": "python3"
  },
  "language_info": {
   "codemirror_mode": {
    "name": "ipython",
    "version": 3
   },
   "file_extension": ".py",
   "mimetype": "text/x-python",
   "name": "python",
   "nbconvert_exporter": "python",
   "pygments_lexer": "ipython3",
   "version": "3.6.4"
  }
 },
 "nbformat": 4,
 "nbformat_minor": 2
}
