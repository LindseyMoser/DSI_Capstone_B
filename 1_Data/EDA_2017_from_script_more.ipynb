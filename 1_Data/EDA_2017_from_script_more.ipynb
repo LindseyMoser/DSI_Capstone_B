{
 "cells": [
  {
   "cell_type": "code",
   "execution_count": 14,
   "metadata": {},
   "outputs": [],
   "source": [
    "import psycopg2\n",
    "import json\n",
    "import pandas as pd\n",
    "import numpy as np\n",
    "import matplotlib.pyplot as plt\n",
    "%matplotlib inline\n",
    "import seaborn as sns\n",
    "sns.set_style('whitegrid')\n",
    "import warnings\n",
    "warnings.filterwarnings('ignore')"
   ]
  },
  {
   "cell_type": "code",
   "execution_count": null,
   "metadata": {},
   "outputs": [],
   "source": [
    "from get_clean_data_FTbreakdown import get_data, clean_data"
   ]
  },
  {
   "cell_type": "code",
   "execution_count": 3,
   "metadata": {},
   "outputs": [],
   "source": [
    "with open('form5500_data/config.json') as f:\n",
    "    conf = json.load(f)\n",
    "    host = conf['host']\n",
    "    database = conf['database']\n",
    "    user = conf['user']\n",
    "    passw = conf['passw']\n",
    "conn_str = \"host={} dbname={} user={} password={}\".format(host, database, user, passw)\n",
    "conn = psycopg2.connect(conn_str)"
   ]
  },
  {
   "cell_type": "code",
   "execution_count": 4,
   "metadata": {},
   "outputs": [],
   "source": [
    "query = '''SELECT sb.SB_EIN, sb.SB_PN, sb.SB_EFF_INT_RATE_PRCNT, sb.SB_PLAN_TYPE_CODE,\n",
    "       sb.SB_TOT_PARTCP_CNT, sb.SB_ACT_PARTCP_CNT, SB_TERM_PARTCP_CNT, SB_RTD_PARTCP_CNT,\n",
    "       sb.SB_TOT_FNDNG_TGT_AMT, SB_LIAB_ACT_TOT_FNDNG_TGT_AMT, SB_TERM_FNDNG_TGT_AMT, SB_RTD_FNDNG_TGT_AMT,\n",
    "       f.PLAN_NAME, f.SPONSOR_DFE_NAME\n",
    "       FROM sb_full sb \n",
    "       LEFT JOIN f5500_full f \n",
    "       ON sb.SB_EIN = f.SPONS_DFE_EIN AND sb.SB_PN = f.SPONS_DFE_PN \n",
    "       WHERE sb.SB_PLAN_YEAR_BEGIN_DATE BETWEEN '2017-01-01' AND '2017-12-31';'''"
   ]
  },
  {
   "cell_type": "code",
   "execution_count": 5,
   "metadata": {},
   "outputs": [],
   "source": [
    "df = pd.read_sql(query, con=conn)\n",
    "conn.close()"
   ]
  },
  {
   "cell_type": "code",
   "execution_count": 13,
   "metadata": {},
   "outputs": [
    {
     "name": "stdout",
     "output_type": "stream",
     "text": [
      "<class 'pandas.core.frame.DataFrame'>\n",
      "RangeIndex: 24273 entries, 0 to 24272\n",
      "Data columns (total 14 columns):\n",
      "sb_ein                           24273 non-null int64\n",
      "sb_pn                            24273 non-null int64\n",
      "sb_eff_int_rate_prcnt            24238 non-null float64\n",
      "sb_plan_type_code                24273 non-null object\n",
      "sb_tot_partcp_cnt                24244 non-null float64\n",
      "sb_act_partcp_cnt                24216 non-null float64\n",
      "sb_term_partcp_cnt               23972 non-null float64\n",
      "sb_rtd_partcp_cnt                23858 non-null float64\n",
      "sb_tot_fndng_tgt_amt             24250 non-null float64\n",
      "sb_liab_act_tot_fndng_tgt_amt    24204 non-null float64\n",
      "sb_term_fndng_tgt_amt            23949 non-null float64\n",
      "sb_rtd_fndng_tgt_amt             23840 non-null float64\n",
      "plan_name                        9234 non-null object\n",
      "sponsor_dfe_name                 9234 non-null object\n",
      "dtypes: float64(9), int64(2), object(3)\n",
      "memory usage: 2.6+ MB\n"
     ]
    }
   ],
   "source": [
    "df.info()"
   ]
  },
  {
   "cell_type": "markdown",
   "metadata": {},
   "source": [
    "<h3>Convert object counts to numeric</h3>"
   ]
  },
  {
   "cell_type": "code",
   "execution_count": 12,
   "metadata": {
    "scrolled": true
   },
   "outputs": [],
   "source": [
    "clean_list = ['sb_tot_partcp_cnt', 'sb_act_partcp_cnt','sb_term_partcp_cnt', 'sb_rtd_partcp_cnt']\n",
    "\n",
    "for c in clean_list:\n",
    "    df[c] = pd.to_numeric(df[c])\n",
    "\n",
    "df['sb_eff_int_rate_prcnt'] = np.where(df['sb_eff_int_rate_prcnt']>100, df['sb_eff_int_rate_prcnt']/100, df['sb_eff_int_rate_prcnt'])"
   ]
  },
  {
   "cell_type": "markdown",
   "metadata": {},
   "source": [
    "<h3>Remove outliers and plans with $0 FT</h3>"
   ]
  },
  {
   "cell_type": "code",
   "execution_count": 58,
   "metadata": {},
   "outputs": [],
   "source": [
    "df=df[(df['sb_tot_partcp_cnt']< 4000000) & (df['sb_tot_fndng_tgt_amt']>0) & \\\n",
    "       (df['sb_act_partcp_cnt']< 300000) & (df['sb_term_partcp_cnt'] < 100000) & \\\n",
    "        (df['sb_rtd_partcp_cnt']< 100000)]"
   ]
  },
  {
   "cell_type": "code",
   "execution_count": 59,
   "metadata": {},
   "outputs": [
    {
     "data": {
      "text/html": [
       "<div>\n",
       "<style scoped>\n",
       "    .dataframe tbody tr th:only-of-type {\n",
       "        vertical-align: middle;\n",
       "    }\n",
       "\n",
       "    .dataframe tbody tr th {\n",
       "        vertical-align: top;\n",
       "    }\n",
       "\n",
       "    .dataframe thead th {\n",
       "        text-align: right;\n",
       "    }\n",
       "</style>\n",
       "<table border=\"1\" class=\"dataframe\">\n",
       "  <thead>\n",
       "    <tr style=\"text-align: right;\">\n",
       "      <th></th>\n",
       "      <th>count</th>\n",
       "      <th>mean</th>\n",
       "      <th>std</th>\n",
       "      <th>min</th>\n",
       "      <th>25%</th>\n",
       "      <th>50%</th>\n",
       "      <th>75%</th>\n",
       "      <th>max</th>\n",
       "    </tr>\n",
       "  </thead>\n",
       "  <tbody>\n",
       "    <tr>\n",
       "      <th>sb_ein</th>\n",
       "      <td>22306.0</td>\n",
       "      <td>4.433125e+08</td>\n",
       "      <td>2.745883e+08</td>\n",
       "      <td>10020240.00</td>\n",
       "      <td>2.223861e+08</td>\n",
       "      <td>3.645830e+08</td>\n",
       "      <td>6.504331e+08</td>\n",
       "      <td>9.903542e+08</td>\n",
       "    </tr>\n",
       "    <tr>\n",
       "      <th>sb_pn</th>\n",
       "      <td>22306.0</td>\n",
       "      <td>3.285484e+00</td>\n",
       "      <td>1.716091e+01</td>\n",
       "      <td>1.00</td>\n",
       "      <td>1.000000e+00</td>\n",
       "      <td>2.000000e+00</td>\n",
       "      <td>2.000000e+00</td>\n",
       "      <td>3.980000e+02</td>\n",
       "    </tr>\n",
       "    <tr>\n",
       "      <th>sb_eff_int_rate_prcnt</th>\n",
       "      <td>22297.0</td>\n",
       "      <td>5.673017e+00</td>\n",
       "      <td>5.241598e-01</td>\n",
       "      <td>0.08</td>\n",
       "      <td>5.630000e+00</td>\n",
       "      <td>5.760000e+00</td>\n",
       "      <td>5.930000e+00</td>\n",
       "      <td>1.140000e+01</td>\n",
       "    </tr>\n",
       "    <tr>\n",
       "      <th>sb_tot_partcp_cnt</th>\n",
       "      <td>22306.0</td>\n",
       "      <td>5.208105e+02</td>\n",
       "      <td>5.930157e+03</td>\n",
       "      <td>0.00</td>\n",
       "      <td>4.000000e+00</td>\n",
       "      <td>8.000000e+00</td>\n",
       "      <td>2.600000e+01</td>\n",
       "      <td>1.793500e+05</td>\n",
       "    </tr>\n",
       "    <tr>\n",
       "      <th>sb_act_partcp_cnt</th>\n",
       "      <td>22306.0</td>\n",
       "      <td>1.529286e+02</td>\n",
       "      <td>1.727289e+03</td>\n",
       "      <td>0.00</td>\n",
       "      <td>3.000000e+00</td>\n",
       "      <td>6.000000e+00</td>\n",
       "      <td>1.700000e+01</td>\n",
       "      <td>8.941000e+04</td>\n",
       "    </tr>\n",
       "    <tr>\n",
       "      <th>sb_term_partcp_cnt</th>\n",
       "      <td>22306.0</td>\n",
       "      <td>1.523051e+02</td>\n",
       "      <td>2.001048e+03</td>\n",
       "      <td>0.00</td>\n",
       "      <td>0.000000e+00</td>\n",
       "      <td>1.000000e+00</td>\n",
       "      <td>5.000000e+00</td>\n",
       "      <td>9.312700e+04</td>\n",
       "    </tr>\n",
       "    <tr>\n",
       "      <th>sb_rtd_partcp_cnt</th>\n",
       "      <td>22306.0</td>\n",
       "      <td>2.155768e+02</td>\n",
       "      <td>2.709486e+03</td>\n",
       "      <td>0.00</td>\n",
       "      <td>0.000000e+00</td>\n",
       "      <td>0.000000e+00</td>\n",
       "      <td>0.000000e+00</td>\n",
       "      <td>8.966500e+04</td>\n",
       "    </tr>\n",
       "    <tr>\n",
       "      <th>sb_tot_fndng_tgt_amt</th>\n",
       "      <td>22306.0</td>\n",
       "      <td>4.583094e+07</td>\n",
       "      <td>6.860207e+08</td>\n",
       "      <td>1.00</td>\n",
       "      <td>4.061755e+05</td>\n",
       "      <td>9.889200e+05</td>\n",
       "      <td>2.500270e+06</td>\n",
       "      <td>2.995327e+10</td>\n",
       "    </tr>\n",
       "    <tr>\n",
       "      <th>sb_liab_act_tot_fndng_tgt_amt</th>\n",
       "      <td>22306.0</td>\n",
       "      <td>1.623374e+07</td>\n",
       "      <td>2.625266e+08</td>\n",
       "      <td>0.00</td>\n",
       "      <td>3.385830e+05</td>\n",
       "      <td>8.489690e+05</td>\n",
       "      <td>1.969188e+06</td>\n",
       "      <td>1.111749e+10</td>\n",
       "    </tr>\n",
       "    <tr>\n",
       "      <th>sb_term_fndng_tgt_amt</th>\n",
       "      <td>22294.0</td>\n",
       "      <td>6.377512e+06</td>\n",
       "      <td>8.911647e+07</td>\n",
       "      <td>0.00</td>\n",
       "      <td>0.000000e+00</td>\n",
       "      <td>6.125000e+02</td>\n",
       "      <td>6.849900e+04</td>\n",
       "      <td>3.705227e+09</td>\n",
       "    </tr>\n",
       "    <tr>\n",
       "      <th>sb_rtd_fndng_tgt_amt</th>\n",
       "      <td>22291.0</td>\n",
       "      <td>2.323874e+07</td>\n",
       "      <td>3.702741e+08</td>\n",
       "      <td>0.00</td>\n",
       "      <td>0.000000e+00</td>\n",
       "      <td>0.000000e+00</td>\n",
       "      <td>0.000000e+00</td>\n",
       "      <td>1.671093e+10</td>\n",
       "    </tr>\n",
       "  </tbody>\n",
       "</table>\n",
       "</div>"
      ],
      "text/plain": [
       "                                 count          mean           std  \\\n",
       "sb_ein                         22306.0  4.433125e+08  2.745883e+08   \n",
       "sb_pn                          22306.0  3.285484e+00  1.716091e+01   \n",
       "sb_eff_int_rate_prcnt          22297.0  5.673017e+00  5.241598e-01   \n",
       "sb_tot_partcp_cnt              22306.0  5.208105e+02  5.930157e+03   \n",
       "sb_act_partcp_cnt              22306.0  1.529286e+02  1.727289e+03   \n",
       "sb_term_partcp_cnt             22306.0  1.523051e+02  2.001048e+03   \n",
       "sb_rtd_partcp_cnt              22306.0  2.155768e+02  2.709486e+03   \n",
       "sb_tot_fndng_tgt_amt           22306.0  4.583094e+07  6.860207e+08   \n",
       "sb_liab_act_tot_fndng_tgt_amt  22306.0  1.623374e+07  2.625266e+08   \n",
       "sb_term_fndng_tgt_amt          22294.0  6.377512e+06  8.911647e+07   \n",
       "sb_rtd_fndng_tgt_amt           22291.0  2.323874e+07  3.702741e+08   \n",
       "\n",
       "                                       min           25%           50%  \\\n",
       "sb_ein                         10020240.00  2.223861e+08  3.645830e+08   \n",
       "sb_pn                                 1.00  1.000000e+00  2.000000e+00   \n",
       "sb_eff_int_rate_prcnt                 0.08  5.630000e+00  5.760000e+00   \n",
       "sb_tot_partcp_cnt                     0.00  4.000000e+00  8.000000e+00   \n",
       "sb_act_partcp_cnt                     0.00  3.000000e+00  6.000000e+00   \n",
       "sb_term_partcp_cnt                    0.00  0.000000e+00  1.000000e+00   \n",
       "sb_rtd_partcp_cnt                     0.00  0.000000e+00  0.000000e+00   \n",
       "sb_tot_fndng_tgt_amt                  1.00  4.061755e+05  9.889200e+05   \n",
       "sb_liab_act_tot_fndng_tgt_amt         0.00  3.385830e+05  8.489690e+05   \n",
       "sb_term_fndng_tgt_amt                 0.00  0.000000e+00  6.125000e+02   \n",
       "sb_rtd_fndng_tgt_amt                  0.00  0.000000e+00  0.000000e+00   \n",
       "\n",
       "                                        75%           max  \n",
       "sb_ein                         6.504331e+08  9.903542e+08  \n",
       "sb_pn                          2.000000e+00  3.980000e+02  \n",
       "sb_eff_int_rate_prcnt          5.930000e+00  1.140000e+01  \n",
       "sb_tot_partcp_cnt              2.600000e+01  1.793500e+05  \n",
       "sb_act_partcp_cnt              1.700000e+01  8.941000e+04  \n",
       "sb_term_partcp_cnt             5.000000e+00  9.312700e+04  \n",
       "sb_rtd_partcp_cnt              0.000000e+00  8.966500e+04  \n",
       "sb_tot_fndng_tgt_amt           2.500270e+06  2.995327e+10  \n",
       "sb_liab_act_tot_fndng_tgt_amt  1.969188e+06  1.111749e+10  \n",
       "sb_term_fndng_tgt_amt          6.849900e+04  3.705227e+09  \n",
       "sb_rtd_fndng_tgt_amt           0.000000e+00  1.671093e+10  "
      ]
     },
     "execution_count": 59,
     "metadata": {},
     "output_type": "execute_result"
    }
   ],
   "source": [
    "df.describe().T"
   ]
  },
  {
   "cell_type": "markdown",
   "metadata": {},
   "source": [
    "<h1>Funding Target vs Participant Count - Total and by Status</h1>"
   ]
  },
  {
   "cell_type": "code",
   "execution_count": 60,
   "metadata": {},
   "outputs": [
    {
     "data": {
      "image/png": "[encoded data removed]",
      "text/plain": [
       "<Figure size 576x576 with 1 Axes>"
      ]
     },
     "metadata": {},
     "output_type": "display_data"
    }
   ],
   "source": [
    "fig, ax = plt.subplots(1,1, figsize=(8,8))\n",
    "ax = sns.scatterplot(x=df['sb_tot_partcp_cnt'], y=df['sb_tot_fndng_tgt_amt'])\n",
    "plt.title('Participant Count vs Funding Target')\n",
    "plt.xlabel('Participant Count')\n",
    "plt.ylabel('Funding Target')\n",
    "plt.show()"
   ]
  },
  {
   "cell_type": "code",
   "execution_count": 61,
   "metadata": {},
   "outputs": [
    {
     "data": {
      "image/png": "[encoded data removed]",
      "text/plain": [
       "<Figure size 576x576 with 1 Axes>"
      ]
     },
     "metadata": {},
     "output_type": "display_data"
    }
   ],
   "source": [
    "fig, ax = plt.subplots(1,1, figsize=(8,8))\n",
    "ax = sns.scatterplot(x=df['sb_act_partcp_cnt'], y=df['sb_liab_act_tot_fndng_tgt_amt'])\n",
    "plt.title('Active: Participant Count vs Funding Target')\n",
    "plt.xlabel('Active Participant Count')\n",
    "plt.ylabel('Active Funding Target')\n",
    "plt.show()"
   ]
  },
  {
   "cell_type": "code",
   "execution_count": 62,
   "metadata": {},
   "outputs": [
    {
     "data": {
      "image/png": "[encoded data removed]",
      "text/plain": [
       "<Figure size 576x576 with 1 Axes>"
      ]
     },
     "metadata": {},
     "output_type": "display_data"
    }
   ],
   "source": [
    "fig, ax = plt.subplots(1,1, figsize=(8,8))\n",
    "x=df[df['sb_act_partcp_cnt']<20000]['sb_act_partcp_cnt']\n",
    "y=df[df['sb_act_partcp_cnt']<20000]['sb_liab_act_tot_fndng_tgt_amt']\n",
    "ax = sns.scatterplot(x=x, y=y)\n",
    "plt.title('Active: Participant Count vs Funding Target (<20,000 Actives)')\n",
    "plt.xlabel('Active Participant Count')\n",
    "plt.ylabel('Active Funding Target')\n",
    "plt.show()"
   ]
  },
  {
   "cell_type": "code",
   "execution_count": 63,
   "metadata": {
    "scrolled": true
   },
   "outputs": [
    {
     "data": {
      "image/png": "[encoded data removed]",
      "text/plain": [
       "<Figure size 576x576 with 1 Axes>"
      ]
     },
     "metadata": {},
     "output_type": "display_data"
    }
   ],
   "source": [
    "fig, ax = plt.subplots(1,1, figsize=(8,8))\n",
    "ax = sns.scatterplot(x=df['sb_term_partcp_cnt'], y=df['sb_term_fndng_tgt_amt'])\n",
    "plt.title('Vested Terminated: Participant Count vs Funding Target')\n",
    "plt.xlabel('Terminated Participant Count')\n",
    "plt.ylabel('Terminated Funding Target')\n",
    "plt.show()"
   ]
  },
  {
   "cell_type": "code",
   "execution_count": 64,
   "metadata": {},
   "outputs": [
    {
     "data": {
      "image/png": "[encoded data removed]",
      "text/plain": [
       "<Figure size 576x576 with 1 Axes>"
      ]
     },
     "metadata": {},
     "output_type": "display_data"
    }
   ],
   "source": [
    "fig, ax = plt.subplots(1,1, figsize=(8,8))\n",
    "ax = sns.scatterplot(x=df['sb_rtd_partcp_cnt'], y=df['sb_rtd_fndng_tgt_amt'])\n",
    "plt.title('Retired: Participant Count vs Funding Target')\n",
    "plt.xlabel('Retired Participant Count')\n",
    "plt.ylabel('Retired Funding Target')\n",
    "plt.show()"
   ]
  },
  {
   "cell_type": "code",
   "execution_count": 65,
   "metadata": {},
   "outputs": [
    {
     "data": {
      "text/plain": [
       "Index(['sb_ein', 'sb_pn', 'sb_eff_int_rate_prcnt', 'sb_plan_type_code',\n",
       "       'sb_tot_partcp_cnt', 'sb_act_partcp_cnt', 'sb_term_partcp_cnt',\n",
       "       'sb_rtd_partcp_cnt', 'sb_tot_fndng_tgt_amt',\n",
       "       'sb_liab_act_tot_fndng_tgt_amt', 'sb_term_fndng_tgt_amt',\n",
       "       'sb_rtd_fndng_tgt_amt', 'plan_name', 'sponsor_dfe_name'],\n",
       "      dtype='object')"
      ]
     },
     "execution_count": 65,
     "metadata": {},
     "output_type": "execute_result"
    }
   ],
   "source": [
    "df.columns"
   ]
  },
  {
   "cell_type": "markdown",
   "metadata": {},
   "source": [
    "<h3>Distribution of Participant Count</h3>"
   ]
  },
  {
   "cell_type": "code",
   "execution_count": null,
   "metadata": {},
   "outputs": [],
   "source": [
    "sns.distplot(X2[(X2['sb_tot_partcp_cnt']<4000) & (X2['sb_tot_partcp_cnt']>100)]['sb_tot_partcp_cnt'],\\\n",
    "            bins=100)\n",
    "plt.title('Distribution of Participant Count (100 < PC < 4000)')\n",
    "plt.show()"
   ]
  },
  {
   "cell_type": "code",
   "execution_count": null,
   "metadata": {},
   "outputs": [],
   "source": [
    "sns.distplot(X2[(X2['sb_tot_partcp_cnt']<1000) & (X2['sb_tot_partcp_cnt']>100)]['sb_tot_partcp_cnt'],\\\n",
    "            bins=100)\n",
    "plt.title('Distribution of Participant Count (100 < PC < 1000)')\n",
    "plt.show()"
   ]
  },
  {
   "cell_type": "markdown",
   "metadata": {},
   "source": [
    "<h2>Participant Count vs. Funded Status</h2>"
   ]
  },
  {
   "cell_type": "code",
   "execution_count": null,
   "metadata": {},
   "outputs": [],
   "source": [
    "fig, ax = plt.subplots(1,1, figsize=(8,8))\n",
    "ax = sns.scatterplot(x=X2['sb_tot_partcp_cnt'], y=y)\n",
    "plt.title('Participant Count vs Funded Status')\n",
    "plt.show()"
   ]
  },
  {
   "cell_type": "code",
   "execution_count": null,
   "metadata": {},
   "outputs": [],
   "source": [
    "fig1, ax1 = plt.subplots(1,1, figsize=(8,8))\n",
    "x_trnc=X2[X2['sb_tot_partcp_cnt']<50000]['sb_tot_partcp_cnt']\n",
    "y_trnc=np.clip(y[X2['sb_tot_partcp_cnt']<50000],0,400)\n",
    "ax1 = sns.scatterplot(x=x_trnc, y=y_trnc)\n",
    "plt.title('Participant Count vs Funded Status - ptp cnt < 50000, clip FS > 400%')\n",
    "plt.show()"
   ]
  },
  {
   "cell_type": "code",
   "execution_count": null,
   "metadata": {},
   "outputs": [],
   "source": [
    "fig2, ax2 = plt.subplots(1,1, figsize=(8,8))\n",
    "x_trnc2=X2[X2['sb_tot_partcp_cnt']<10000]['sb_tot_partcp_cnt']\n",
    "y_trnc2=np.clip(y[X2['sb_tot_partcp_cnt']<10000],0,400)\n",
    "ax2 = sns.scatterplot(x=x_trnc2, y=y_trnc2)\n",
    "plt.title('Participant Count vs Funded Status - ptp cnt < 10000, clip FS > 400%')\n",
    "plt.show()"
   ]
  },
  {
   "cell_type": "markdown",
   "metadata": {},
   "source": [
    "<h2>EIR vs Funded Status</h2>"
   ]
  },
  {
   "cell_type": "code",
   "execution_count": null,
   "metadata": {},
   "outputs": [],
   "source": [
    "fig3, ax3 = plt.subplots(1,1, figsize=(8,8))\n",
    "#x_trnc3=X2[(X2['sb_eff_int_rate_prcnt'] >1) & (X2['sb_eff_int_rate_prcnt'] < 10)]['sb_eff_int_rate_prcnt']\n",
    "#y_trnc3=np.clip(y[(X2['sb_eff_int_rate_prcnt'] >1) & (X2['sb_eff_int_rate_prcnt'] < 10)],0,400)\n",
    "x_trnc3=X2['sb_eff_int_rate_prcnt']\n",
    "y_trnc3=np.clip(y,0,400)\n",
    "ax3 = sns.scatterplot(x=x_trnc3, y=y_trnc3)\n",
    "plt.title('EIR vs Funded Status: 1% < EIR < 10%, clip FS > 400%')\n",
    "plt.show()"
   ]
  },
  {
   "cell_type": "code",
   "execution_count": null,
   "metadata": {
    "scrolled": false
   },
   "outputs": [],
   "source": [
    "fig4, ax4 = plt.subplots(1,1, figsize=(8,8))\n",
    "x_trnc4=X2[(X2['sb_eff_int_rate_prcnt'] >4) & (X2['sb_eff_int_rate_prcnt'] < 6.5)]['sb_eff_int_rate_prcnt']\n",
    "y_trnc4=np.clip(y[(X2['sb_eff_int_rate_prcnt'] >4) & (X2['sb_eff_int_rate_prcnt'] < 6.5)],0,400)\n",
    "ax4 = sns.scatterplot(x=x_trnc4, y=y_trnc4)\n",
    "plt.title('EIR vs Funded Status: 4% < EIR < 6.5%, clip FS > 400%')\n",
    "plt.show()"
   ]
  },
  {
   "cell_type": "markdown",
   "metadata": {},
   "source": [
    "<h2>PY FS vs CY FS</h2>"
   ]
  },
  {
   "cell_type": "code",
   "execution_count": null,
   "metadata": {
    "scrolled": false
   },
   "outputs": [],
   "source": [
    "fig5, ax5 = plt.subplots(1,1, figsize=(8,8))\n",
    "x_trnc5=X2['sb_pr_yr_fndng_prcnt']\n",
    "y_trnc5=np.clip(y,0,400)\n",
    "ax5 = sns.scatterplot(x=x_trnc5, y=y_trnc5)\n",
    "plt.xlim(0,400)\n",
    "plt.title('PY Funded Status vs Funded Status')\n",
    "plt.rcParams.update({'font.size':12})\n",
    "plt.show()"
   ]
  },
  {
   "cell_type": "code",
   "execution_count": null,
   "metadata": {},
   "outputs": [],
   "source": [
    "sns.boxplot(x=X2[X2['sb_tot_partcp_cnt']<10000]['sb_tot_partcp_cnt'])\n",
    "plt.show()"
   ]
  },
  {
   "cell_type": "code",
   "execution_count": null,
   "metadata": {},
   "outputs": [],
   "source": [
    "sns.boxplot(x=X2['sb_eff_int_rate_prcnt'])\n",
    "plt.show()"
   ]
  },
  {
   "cell_type": "code",
   "execution_count": null,
   "metadata": {},
   "outputs": [],
   "source": [
    "sns.boxplot(x=X2['sb_pr_yr_fndng_prcnt'])\n",
    "plt.show()"
   ]
  },
  {
   "cell_type": "code",
   "execution_count": null,
   "metadata": {},
   "outputs": [],
   "source": [
    "X2.head()"
   ]
  },
  {
   "cell_type": "code",
   "execution_count": null,
   "metadata": {},
   "outputs": [],
   "source": []
  }
 ],
 "metadata": {
  "kernelspec": {
   "display_name": "Python 3",
   "language": "python",
   "name": "python3"
  },
  "language_info": {
   "codemirror_mode": {
    "name": "ipython",
    "version": 3
   },
   "file_extension": ".py",
   "mimetype": "text/x-python",
   "name": "python",
   "nbconvert_exporter": "python",
   "pygments_lexer": "ipython3",
   "version": "3.6.4"
  }
 },
 "nbformat": 4,
 "nbformat_minor": 2
}
