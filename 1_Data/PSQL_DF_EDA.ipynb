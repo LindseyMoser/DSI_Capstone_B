{
 "cells": [
  {
   "cell_type": "code",
   "execution_count": 1,
   "metadata": {},
   "outputs": [],
   "source": [
    "import psycopg2\n",
    "import json\n",
    "import pandas as pd\n",
    "import numpy as np\n",
    "import matplotlib.pyplot as plt\n",
    "%matplotlib inline"
   ]
  },
  {
   "cell_type": "code",
   "execution_count": 2,
   "metadata": {},
   "outputs": [],
   "source": [
    "with open('form5500_data/config.json') as f:\n",
    "   conf = json.load(f)\n",
    "   host = conf['host']\n",
    "   database = conf['database']\n",
    "   user = conf['user']\n",
    "   passw = conf['passw']"
   ]
  },
  {
   "cell_type": "code",
   "execution_count": 3,
   "metadata": {},
   "outputs": [],
   "source": [
    "conn_str = \"host={} dbname={} user={} password={}\".format(host, database, user, passw)"
   ]
  },
  {
   "cell_type": "code",
   "execution_count": 4,
   "metadata": {},
   "outputs": [],
   "source": [
    "conn = psycopg2.connect(conn_str)"
   ]
  },
  {
   "cell_type": "code",
   "execution_count": 5,
   "metadata": {},
   "outputs": [],
   "source": [
    "query = \"SELECT sb.SB_TOT_PARTCP_CNT, sb.SB_EFF_INT_RATE_PRCNT, sb.SB_PLAN_YEAR_BEGIN_DATE, sb.SB_FNDNG_SHORT_IND, \\\n",
    "       sb.SB_PR_YR_FNDNG_PRCNT, sb.SB_FNDNG_TGT_PRCNT, sb.SB_TOT_FNDNG_TGT_AMT, sb.SB_CURR_VALUE_AST_01_AMT, sb.SB_PLAN_TYPE_CODE \\\n",
    "FROM sb_full sb;\""
   ]
  },
  {
   "cell_type": "code",
   "execution_count": 6,
   "metadata": {},
   "outputs": [],
   "source": [
    "eda_df = pd.read_sql(query, con=conn)"
   ]
  },
  {
   "cell_type": "code",
   "execution_count": 7,
   "metadata": {
    "scrolled": true
   },
   "outputs": [
    {
     "data": {
      "text/plain": [
       "sb_plan_type_code\n",
       "1    222660\n",
       "2       451\n",
       "3       769\n",
       "Name: sb_plan_type_code, dtype: int64"
      ]
     },
     "execution_count": 7,
     "metadata": {},
     "output_type": "execute_result"
    }
   ],
   "source": [
    "eda_df.groupby('sb_plan_type_code')['sb_plan_type_code'].count()"
   ]
  },
  {
   "cell_type": "markdown",
   "metadata": {},
   "source": [
    "<h3>Add calculated FS (using MVA instead of AVA) column</h3>"
   ]
  },
  {
   "cell_type": "code",
   "execution_count": 8,
   "metadata": {},
   "outputs": [],
   "source": [
    "eda_df['mva_fs'] = eda_df['sb_curr_value_ast_01_amt'] / eda_df['sb_tot_fndng_tgt_amt'] *100"
   ]
  },
  {
   "cell_type": "markdown",
   "metadata": {},
   "source": [
    "<h3>Add year column (year only of plan year begin date) </h3>"
   ]
  },
  {
   "cell_type": "code",
   "execution_count": 9,
   "metadata": {
    "scrolled": true
   },
   "outputs": [],
   "source": [
    "eda_df['plan_year_dt'] = pd.to_datetime(eda_df['sb_plan_year_begin_date'])"
   ]
  },
  {
   "cell_type": "code",
   "execution_count": 10,
   "metadata": {},
   "outputs": [],
   "source": [
    "eda_df['year'] = eda_df['plan_year_dt'].dt.year"
   ]
  },
  {
   "cell_type": "markdown",
   "metadata": {},
   "source": [
    "<h3>Create integer versions of feature columns</h3>"
   ]
  },
  {
   "cell_type": "markdown",
   "metadata": {},
   "source": [
    "<h3>Participant count</h3>"
   ]
  },
  {
   "cell_type": "code",
   "execution_count": 11,
   "metadata": {},
   "outputs": [],
   "source": [
    "eda_df['ptp_cnt'] = pd.to_numeric(eda_df['sb_tot_partcp_cnt'])"
   ]
  },
  {
   "cell_type": "markdown",
   "metadata": {},
   "source": [
    "<h3>Prior year shortfall indicator</h3>"
   ]
  },
  {
   "cell_type": "code",
   "execution_count": 12,
   "metadata": {},
   "outputs": [
    {
     "data": {
      "text/plain": [
       "array(['1', '2', None], dtype=object)"
      ]
     },
     "execution_count": 12,
     "metadata": {},
     "output_type": "execute_result"
    }
   ],
   "source": [
    "eda_df['sb_fndng_short_ind'].unique()"
   ]
  },
  {
   "cell_type": "code",
   "execution_count": 13,
   "metadata": {},
   "outputs": [],
   "source": [
    "eda_df['sf_ind'] = pd.to_numeric(eda_df['sb_fndng_short_ind'])\n",
    "eda_df['sf_ind'] = eda_df['sf_ind'].fillna(value=0)"
   ]
  },
  {
   "cell_type": "code",
   "execution_count": 14,
   "metadata": {},
   "outputs": [
    {
     "data": {
      "text/plain": [
       "sf_ind\n",
       "0.0       467\n",
       "1.0     73546\n",
       "2.0    149867\n",
       "Name: sf_ind, dtype: int64"
      ]
     },
     "execution_count": 14,
     "metadata": {},
     "output_type": "execute_result"
    }
   ],
   "source": [
    "eda_df.groupby('sf_ind')['sf_ind'].count()"
   ]
  },
  {
   "cell_type": "markdown",
   "metadata": {},
   "source": [
    "<h1>Create Features DF</h1>\n",
    "<h3>Drop rows with NA</h3>"
   ]
  },
  {
   "cell_type": "code",
   "execution_count": 15,
   "metadata": {},
   "outputs": [],
   "source": [
    "prelim_feat_df = eda_df[['ptp_cnt', 'sb_eff_int_rate_prcnt', 'year','sf_ind', \\\n",
    "                         'sb_pr_yr_fndng_prcnt', 'sb_tot_fndng_tgt_amt','mva_fs', \\\n",
    "                          'sb_fndng_tgt_prcnt']]"
   ]
  },
  {
   "cell_type": "code",
   "execution_count": 16,
   "metadata": {},
   "outputs": [
    {
     "name": "stdout",
     "output_type": "stream",
     "text": [
      "<class 'pandas.core.frame.DataFrame'>\n",
      "RangeIndex: 223880 entries, 0 to 223879\n",
      "Data columns (total 8 columns):\n",
      "ptp_cnt                  223664 non-null float64\n",
      "sb_eff_int_rate_prcnt    223730 non-null float64\n",
      "year                     223880 non-null int64\n",
      "sf_ind                   223880 non-null float64\n",
      "sb_pr_yr_fndng_prcnt     221487 non-null float64\n",
      "sb_tot_fndng_tgt_amt     223763 non-null float64\n",
      "mva_fs                   206829 non-null float64\n",
      "sb_fndng_tgt_prcnt       223724 non-null float64\n",
      "dtypes: float64(7), int64(1)\n",
      "memory usage: 13.7 MB\n"
     ]
    }
   ],
   "source": [
    "prelim_feat_df.info()"
   ]
  },
  {
   "cell_type": "code",
   "execution_count": 17,
   "metadata": {
    "scrolled": true
   },
   "outputs": [
    {
     "data": {
      "text/html": [
       "<div>\n",
       "<style scoped>\n",
       "    .dataframe tbody tr th:only-of-type {\n",
       "        vertical-align: middle;\n",
       "    }\n",
       "\n",
       "    .dataframe tbody tr th {\n",
       "        vertical-align: top;\n",
       "    }\n",
       "\n",
       "    .dataframe thead th {\n",
       "        text-align: right;\n",
       "    }\n",
       "</style>\n",
       "<table border=\"1\" class=\"dataframe\">\n",
       "  <thead>\n",
       "    <tr style=\"text-align: right;\">\n",
       "      <th></th>\n",
       "      <th>ptp_cnt</th>\n",
       "      <th>sb_eff_int_rate_prcnt</th>\n",
       "      <th>year</th>\n",
       "      <th>sf_ind</th>\n",
       "      <th>sb_pr_yr_fndng_prcnt</th>\n",
       "      <th>sb_tot_fndng_tgt_amt</th>\n",
       "      <th>mva_fs</th>\n",
       "      <th>sb_fndng_tgt_prcnt</th>\n",
       "    </tr>\n",
       "  </thead>\n",
       "  <tbody>\n",
       "    <tr>\n",
       "      <th>0</th>\n",
       "      <td>3.0</td>\n",
       "      <td>5.26</td>\n",
       "      <td>2017</td>\n",
       "      <td>1.0</td>\n",
       "      <td>97.07</td>\n",
       "      <td>269963.0</td>\n",
       "      <td>112.685072</td>\n",
       "      <td>112.68</td>\n",
       "    </tr>\n",
       "    <tr>\n",
       "      <th>1</th>\n",
       "      <td>2.0</td>\n",
       "      <td>5.72</td>\n",
       "      <td>2017</td>\n",
       "      <td>2.0</td>\n",
       "      <td>117.40</td>\n",
       "      <td>1853763.0</td>\n",
       "      <td>121.439742</td>\n",
       "      <td>121.43</td>\n",
       "    </tr>\n",
       "    <tr>\n",
       "      <th>2</th>\n",
       "      <td>6.0</td>\n",
       "      <td>5.72</td>\n",
       "      <td>2017</td>\n",
       "      <td>2.0</td>\n",
       "      <td>110.49</td>\n",
       "      <td>375766.0</td>\n",
       "      <td>108.278024</td>\n",
       "      <td>108.27</td>\n",
       "    </tr>\n",
       "    <tr>\n",
       "      <th>3</th>\n",
       "      <td>17.0</td>\n",
       "      <td>5.87</td>\n",
       "      <td>2017</td>\n",
       "      <td>1.0</td>\n",
       "      <td>85.28</td>\n",
       "      <td>974043.0</td>\n",
       "      <td>125.324344</td>\n",
       "      <td>92.24</td>\n",
       "    </tr>\n",
       "    <tr>\n",
       "      <th>4</th>\n",
       "      <td>1.0</td>\n",
       "      <td>5.24</td>\n",
       "      <td>2017</td>\n",
       "      <td>1.0</td>\n",
       "      <td>92.60</td>\n",
       "      <td>2385087.0</td>\n",
       "      <td>94.727572</td>\n",
       "      <td>94.72</td>\n",
       "    </tr>\n",
       "    <tr>\n",
       "      <th>5</th>\n",
       "      <td>2.0</td>\n",
       "      <td>4.16</td>\n",
       "      <td>2017</td>\n",
       "      <td>2.0</td>\n",
       "      <td>101.21</td>\n",
       "      <td>702486.0</td>\n",
       "      <td>104.451192</td>\n",
       "      <td>104.45</td>\n",
       "    </tr>\n",
       "    <tr>\n",
       "      <th>6</th>\n",
       "      <td>2.0</td>\n",
       "      <td>4.30</td>\n",
       "      <td>2017</td>\n",
       "      <td>2.0</td>\n",
       "      <td>146.27</td>\n",
       "      <td>1003627.0</td>\n",
       "      <td>142.651902</td>\n",
       "      <td>142.65</td>\n",
       "    </tr>\n",
       "    <tr>\n",
       "      <th>7</th>\n",
       "      <td>2.0</td>\n",
       "      <td>5.72</td>\n",
       "      <td>2017</td>\n",
       "      <td>2.0</td>\n",
       "      <td>89.01</td>\n",
       "      <td>233957.0</td>\n",
       "      <td>100.878794</td>\n",
       "      <td>100.87</td>\n",
       "    </tr>\n",
       "    <tr>\n",
       "      <th>8</th>\n",
       "      <td>1.0</td>\n",
       "      <td>5.64</td>\n",
       "      <td>2017</td>\n",
       "      <td>1.0</td>\n",
       "      <td>82.17</td>\n",
       "      <td>747025.0</td>\n",
       "      <td>83.120779</td>\n",
       "      <td>80.00</td>\n",
       "    </tr>\n",
       "    <tr>\n",
       "      <th>9</th>\n",
       "      <td>4.0</td>\n",
       "      <td>5.63</td>\n",
       "      <td>2017</td>\n",
       "      <td>2.0</td>\n",
       "      <td>111.76</td>\n",
       "      <td>2870545.0</td>\n",
       "      <td>103.290873</td>\n",
       "      <td>103.29</td>\n",
       "    </tr>\n",
       "    <tr>\n",
       "      <th>10</th>\n",
       "      <td>5.0</td>\n",
       "      <td>5.69</td>\n",
       "      <td>2017</td>\n",
       "      <td>2.0</td>\n",
       "      <td>113.84</td>\n",
       "      <td>2523598.0</td>\n",
       "      <td>130.172833</td>\n",
       "      <td>130.17</td>\n",
       "    </tr>\n",
       "    <tr>\n",
       "      <th>11</th>\n",
       "      <td>3.0</td>\n",
       "      <td>6.10</td>\n",
       "      <td>2017</td>\n",
       "      <td>1.0</td>\n",
       "      <td>96.54</td>\n",
       "      <td>549101.0</td>\n",
       "      <td>91.934271</td>\n",
       "      <td>91.93</td>\n",
       "    </tr>\n",
       "    <tr>\n",
       "      <th>12</th>\n",
       "      <td>6.0</td>\n",
       "      <td>5.92</td>\n",
       "      <td>2017</td>\n",
       "      <td>2.0</td>\n",
       "      <td>134.66</td>\n",
       "      <td>820715.0</td>\n",
       "      <td>115.155566</td>\n",
       "      <td>115.15</td>\n",
       "    </tr>\n",
       "    <tr>\n",
       "      <th>13</th>\n",
       "      <td>18.0</td>\n",
       "      <td>4.98</td>\n",
       "      <td>2017</td>\n",
       "      <td>1.0</td>\n",
       "      <td>82.55</td>\n",
       "      <td>296752.0</td>\n",
       "      <td>92.725576</td>\n",
       "      <td>92.72</td>\n",
       "    </tr>\n",
       "    <tr>\n",
       "      <th>14</th>\n",
       "      <td>11.0</td>\n",
       "      <td>6.17</td>\n",
       "      <td>2018</td>\n",
       "      <td>2.0</td>\n",
       "      <td>137.94</td>\n",
       "      <td>777750.0</td>\n",
       "      <td>128.895661</td>\n",
       "      <td>128.89</td>\n",
       "    </tr>\n",
       "    <tr>\n",
       "      <th>15</th>\n",
       "      <td>10.0</td>\n",
       "      <td>5.76</td>\n",
       "      <td>2017</td>\n",
       "      <td>2.0</td>\n",
       "      <td>121.05</td>\n",
       "      <td>414630.0</td>\n",
       "      <td>115.128669</td>\n",
       "      <td>115.12</td>\n",
       "    </tr>\n",
       "    <tr>\n",
       "      <th>16</th>\n",
       "      <td>1.0</td>\n",
       "      <td>5.68</td>\n",
       "      <td>2017</td>\n",
       "      <td>2.0</td>\n",
       "      <td>102.07</td>\n",
       "      <td>252511.0</td>\n",
       "      <td>102.818491</td>\n",
       "      <td>102.81</td>\n",
       "    </tr>\n",
       "    <tr>\n",
       "      <th>17</th>\n",
       "      <td>4.0</td>\n",
       "      <td>5.19</td>\n",
       "      <td>2017</td>\n",
       "      <td>2.0</td>\n",
       "      <td>102.45</td>\n",
       "      <td>1360385.0</td>\n",
       "      <td>121.258835</td>\n",
       "      <td>106.26</td>\n",
       "    </tr>\n",
       "    <tr>\n",
       "      <th>18</th>\n",
       "      <td>4.0</td>\n",
       "      <td>5.82</td>\n",
       "      <td>2017</td>\n",
       "      <td>2.0</td>\n",
       "      <td>140.00</td>\n",
       "      <td>1828025.0</td>\n",
       "      <td>130.293459</td>\n",
       "      <td>130.29</td>\n",
       "    </tr>\n",
       "    <tr>\n",
       "      <th>19</th>\n",
       "      <td>7.0</td>\n",
       "      <td>4.41</td>\n",
       "      <td>2017</td>\n",
       "      <td>2.0</td>\n",
       "      <td>145.70</td>\n",
       "      <td>1184790.0</td>\n",
       "      <td>140.783008</td>\n",
       "      <td>136.03</td>\n",
       "    </tr>\n",
       "    <tr>\n",
       "      <th>20</th>\n",
       "      <td>1.0</td>\n",
       "      <td>5.72</td>\n",
       "      <td>2017</td>\n",
       "      <td>2.0</td>\n",
       "      <td>122.35</td>\n",
       "      <td>1749859.0</td>\n",
       "      <td>126.524023</td>\n",
       "      <td>126.52</td>\n",
       "    </tr>\n",
       "    <tr>\n",
       "      <th>21</th>\n",
       "      <td>7.0</td>\n",
       "      <td>5.76</td>\n",
       "      <td>2017</td>\n",
       "      <td>2.0</td>\n",
       "      <td>165.06</td>\n",
       "      <td>1716177.0</td>\n",
       "      <td>186.709937</td>\n",
       "      <td>186.70</td>\n",
       "    </tr>\n",
       "    <tr>\n",
       "      <th>22</th>\n",
       "      <td>6.0</td>\n",
       "      <td>5.89</td>\n",
       "      <td>2017</td>\n",
       "      <td>2.0</td>\n",
       "      <td>134.71</td>\n",
       "      <td>703802.0</td>\n",
       "      <td>149.462349</td>\n",
       "      <td>141.13</td>\n",
       "    </tr>\n",
       "    <tr>\n",
       "      <th>23</th>\n",
       "      <td>3.0</td>\n",
       "      <td>6.48</td>\n",
       "      <td>2017</td>\n",
       "      <td>2.0</td>\n",
       "      <td>100.00</td>\n",
       "      <td>72806.0</td>\n",
       "      <td>148.986347</td>\n",
       "      <td>95.35</td>\n",
       "    </tr>\n",
       "    <tr>\n",
       "      <th>24</th>\n",
       "      <td>8.0</td>\n",
       "      <td>5.76</td>\n",
       "      <td>2017</td>\n",
       "      <td>2.0</td>\n",
       "      <td>105.20</td>\n",
       "      <td>780691.0</td>\n",
       "      <td>131.443426</td>\n",
       "      <td>131.44</td>\n",
       "    </tr>\n",
       "    <tr>\n",
       "      <th>25</th>\n",
       "      <td>18.0</td>\n",
       "      <td>5.75</td>\n",
       "      <td>2017</td>\n",
       "      <td>1.0</td>\n",
       "      <td>89.74</td>\n",
       "      <td>1035623.0</td>\n",
       "      <td>165.260814</td>\n",
       "      <td>88.83</td>\n",
       "    </tr>\n",
       "    <tr>\n",
       "      <th>26</th>\n",
       "      <td>87.0</td>\n",
       "      <td>5.78</td>\n",
       "      <td>2017</td>\n",
       "      <td>1.0</td>\n",
       "      <td>90.51</td>\n",
       "      <td>4377447.0</td>\n",
       "      <td>86.635247</td>\n",
       "      <td>86.63</td>\n",
       "    </tr>\n",
       "    <tr>\n",
       "      <th>27</th>\n",
       "      <td>3.0</td>\n",
       "      <td>5.75</td>\n",
       "      <td>2017</td>\n",
       "      <td>2.0</td>\n",
       "      <td>113.36</td>\n",
       "      <td>1306459.0</td>\n",
       "      <td>122.869527</td>\n",
       "      <td>122.86</td>\n",
       "    </tr>\n",
       "    <tr>\n",
       "      <th>28</th>\n",
       "      <td>18.0</td>\n",
       "      <td>5.72</td>\n",
       "      <td>2017</td>\n",
       "      <td>2.0</td>\n",
       "      <td>99.64</td>\n",
       "      <td>883593.0</td>\n",
       "      <td>122.174689</td>\n",
       "      <td>122.17</td>\n",
       "    </tr>\n",
       "    <tr>\n",
       "      <th>29</th>\n",
       "      <td>8.0</td>\n",
       "      <td>4.49</td>\n",
       "      <td>2017</td>\n",
       "      <td>2.0</td>\n",
       "      <td>134.39</td>\n",
       "      <td>458314.0</td>\n",
       "      <td>117.358623</td>\n",
       "      <td>117.35</td>\n",
       "    </tr>\n",
       "    <tr>\n",
       "      <th>...</th>\n",
       "      <td>...</td>\n",
       "      <td>...</td>\n",
       "      <td>...</td>\n",
       "      <td>...</td>\n",
       "      <td>...</td>\n",
       "      <td>...</td>\n",
       "      <td>...</td>\n",
       "      <td>...</td>\n",
       "    </tr>\n",
       "    <tr>\n",
       "      <th>223850</th>\n",
       "      <td>2.0</td>\n",
       "      <td>6.37</td>\n",
       "      <td>2012</td>\n",
       "      <td>2.0</td>\n",
       "      <td>156.07</td>\n",
       "      <td>624060.0</td>\n",
       "      <td>137.025126</td>\n",
       "      <td>137.02</td>\n",
       "    </tr>\n",
       "    <tr>\n",
       "      <th>223851</th>\n",
       "      <td>2.0</td>\n",
       "      <td>5.67</td>\n",
       "      <td>2012</td>\n",
       "      <td>2.0</td>\n",
       "      <td>192.01</td>\n",
       "      <td>346240.0</td>\n",
       "      <td>200.002311</td>\n",
       "      <td>200.00</td>\n",
       "    </tr>\n",
       "    <tr>\n",
       "      <th>223852</th>\n",
       "      <td>4.0</td>\n",
       "      <td>7.52</td>\n",
       "      <td>2012</td>\n",
       "      <td>1.0</td>\n",
       "      <td>83.66</td>\n",
       "      <td>1284388.0</td>\n",
       "      <td>94.326169</td>\n",
       "      <td>94.32</td>\n",
       "    </tr>\n",
       "    <tr>\n",
       "      <th>223853</th>\n",
       "      <td>2.0</td>\n",
       "      <td>7.35</td>\n",
       "      <td>2012</td>\n",
       "      <td>2.0</td>\n",
       "      <td>100.00</td>\n",
       "      <td>55483.0</td>\n",
       "      <td>0.000000</td>\n",
       "      <td>0.00</td>\n",
       "    </tr>\n",
       "    <tr>\n",
       "      <th>223854</th>\n",
       "      <td>6.0</td>\n",
       "      <td>6.85</td>\n",
       "      <td>2012</td>\n",
       "      <td>2.0</td>\n",
       "      <td>195.88</td>\n",
       "      <td>1546659.0</td>\n",
       "      <td>132.206582</td>\n",
       "      <td>132.20</td>\n",
       "    </tr>\n",
       "    <tr>\n",
       "      <th>223855</th>\n",
       "      <td>165.0</td>\n",
       "      <td>7.08</td>\n",
       "      <td>2012</td>\n",
       "      <td>1.0</td>\n",
       "      <td>50.91</td>\n",
       "      <td>3181528.0</td>\n",
       "      <td>54.497210</td>\n",
       "      <td>56.67</td>\n",
       "    </tr>\n",
       "    <tr>\n",
       "      <th>223856</th>\n",
       "      <td>67.0</td>\n",
       "      <td>7.03</td>\n",
       "      <td>2012</td>\n",
       "      <td>1.0</td>\n",
       "      <td>89.10</td>\n",
       "      <td>3561039.0</td>\n",
       "      <td>105.252540</td>\n",
       "      <td>102.59</td>\n",
       "    </tr>\n",
       "    <tr>\n",
       "      <th>223857</th>\n",
       "      <td>12.0</td>\n",
       "      <td>7.22</td>\n",
       "      <td>2012</td>\n",
       "      <td>2.0</td>\n",
       "      <td>104.81</td>\n",
       "      <td>20434.0</td>\n",
       "      <td>124.376040</td>\n",
       "      <td>124.37</td>\n",
       "    </tr>\n",
       "    <tr>\n",
       "      <th>223858</th>\n",
       "      <td>5.0</td>\n",
       "      <td>5.95</td>\n",
       "      <td>2012</td>\n",
       "      <td>2.0</td>\n",
       "      <td>104.08</td>\n",
       "      <td>1261472.0</td>\n",
       "      <td>103.418308</td>\n",
       "      <td>103.41</td>\n",
       "    </tr>\n",
       "    <tr>\n",
       "      <th>223859</th>\n",
       "      <td>3.0</td>\n",
       "      <td>6.86</td>\n",
       "      <td>2012</td>\n",
       "      <td>1.0</td>\n",
       "      <td>95.63</td>\n",
       "      <td>728685.0</td>\n",
       "      <td>102.566404</td>\n",
       "      <td>102.56</td>\n",
       "    </tr>\n",
       "    <tr>\n",
       "      <th>223860</th>\n",
       "      <td>3.0</td>\n",
       "      <td>7.11</td>\n",
       "      <td>2012</td>\n",
       "      <td>2.0</td>\n",
       "      <td>129.32</td>\n",
       "      <td>1366702.0</td>\n",
       "      <td>162.871057</td>\n",
       "      <td>160.23</td>\n",
       "    </tr>\n",
       "    <tr>\n",
       "      <th>223861</th>\n",
       "      <td>3.0</td>\n",
       "      <td>7.48</td>\n",
       "      <td>2012</td>\n",
       "      <td>2.0</td>\n",
       "      <td>100.00</td>\n",
       "      <td>89338.0</td>\n",
       "      <td>0.000000</td>\n",
       "      <td>0.00</td>\n",
       "    </tr>\n",
       "    <tr>\n",
       "      <th>223862</th>\n",
       "      <td>5.0</td>\n",
       "      <td>6.09</td>\n",
       "      <td>2012</td>\n",
       "      <td>1.0</td>\n",
       "      <td>82.73</td>\n",
       "      <td>410210.0</td>\n",
       "      <td>96.549085</td>\n",
       "      <td>95.94</td>\n",
       "    </tr>\n",
       "    <tr>\n",
       "      <th>223863</th>\n",
       "      <td>3.0</td>\n",
       "      <td>6.84</td>\n",
       "      <td>2012</td>\n",
       "      <td>1.0</td>\n",
       "      <td>68.99</td>\n",
       "      <td>1568903.0</td>\n",
       "      <td>99.158457</td>\n",
       "      <td>91.11</td>\n",
       "    </tr>\n",
       "    <tr>\n",
       "      <th>223864</th>\n",
       "      <td>5.0</td>\n",
       "      <td>7.44</td>\n",
       "      <td>2012</td>\n",
       "      <td>2.0</td>\n",
       "      <td>125.67</td>\n",
       "      <td>292135.0</td>\n",
       "      <td>139.351327</td>\n",
       "      <td>138.08</td>\n",
       "    </tr>\n",
       "    <tr>\n",
       "      <th>223865</th>\n",
       "      <td>69.0</td>\n",
       "      <td>7.08</td>\n",
       "      <td>2012</td>\n",
       "      <td>1.0</td>\n",
       "      <td>56.42</td>\n",
       "      <td>868409.0</td>\n",
       "      <td>51.906187</td>\n",
       "      <td>51.86</td>\n",
       "    </tr>\n",
       "    <tr>\n",
       "      <th>223866</th>\n",
       "      <td>15.0</td>\n",
       "      <td>4.34</td>\n",
       "      <td>2012</td>\n",
       "      <td>2.0</td>\n",
       "      <td>127.30</td>\n",
       "      <td>119493.0</td>\n",
       "      <td>95.217293</td>\n",
       "      <td>95.21</td>\n",
       "    </tr>\n",
       "    <tr>\n",
       "      <th>223867</th>\n",
       "      <td>111.0</td>\n",
       "      <td>7.05</td>\n",
       "      <td>2012</td>\n",
       "      <td>1.0</td>\n",
       "      <td>75.30</td>\n",
       "      <td>3334859.0</td>\n",
       "      <td>84.691347</td>\n",
       "      <td>88.16</td>\n",
       "    </tr>\n",
       "    <tr>\n",
       "      <th>223868</th>\n",
       "      <td>4.0</td>\n",
       "      <td>6.67</td>\n",
       "      <td>2012</td>\n",
       "      <td>2.0</td>\n",
       "      <td>232.77</td>\n",
       "      <td>1689387.0</td>\n",
       "      <td>381.587286</td>\n",
       "      <td>381.58</td>\n",
       "    </tr>\n",
       "    <tr>\n",
       "      <th>223869</th>\n",
       "      <td>21.0</td>\n",
       "      <td>7.06</td>\n",
       "      <td>2012</td>\n",
       "      <td>1.0</td>\n",
       "      <td>18.61</td>\n",
       "      <td>1010912.0</td>\n",
       "      <td>22.449432</td>\n",
       "      <td>22.44</td>\n",
       "    </tr>\n",
       "    <tr>\n",
       "      <th>223870</th>\n",
       "      <td>5.0</td>\n",
       "      <td>6.86</td>\n",
       "      <td>2012</td>\n",
       "      <td>2.0</td>\n",
       "      <td>100.00</td>\n",
       "      <td>0.0</td>\n",
       "      <td>NaN</td>\n",
       "      <td>100.00</td>\n",
       "    </tr>\n",
       "    <tr>\n",
       "      <th>223871</th>\n",
       "      <td>8.0</td>\n",
       "      <td>6.91</td>\n",
       "      <td>2012</td>\n",
       "      <td>2.0</td>\n",
       "      <td>115.75</td>\n",
       "      <td>2111055.0</td>\n",
       "      <td>101.833538</td>\n",
       "      <td>101.83</td>\n",
       "    </tr>\n",
       "    <tr>\n",
       "      <th>223872</th>\n",
       "      <td>6.0</td>\n",
       "      <td>6.80</td>\n",
       "      <td>2012</td>\n",
       "      <td>1.0</td>\n",
       "      <td>89.85</td>\n",
       "      <td>2121204.0</td>\n",
       "      <td>94.519150</td>\n",
       "      <td>85.72</td>\n",
       "    </tr>\n",
       "    <tr>\n",
       "      <th>223873</th>\n",
       "      <td>5.0</td>\n",
       "      <td>6.85</td>\n",
       "      <td>2012</td>\n",
       "      <td>2.0</td>\n",
       "      <td>80.00</td>\n",
       "      <td>412213.0</td>\n",
       "      <td>143.339487</td>\n",
       "      <td>139.82</td>\n",
       "    </tr>\n",
       "    <tr>\n",
       "      <th>223874</th>\n",
       "      <td>4.0</td>\n",
       "      <td>6.27</td>\n",
       "      <td>2012</td>\n",
       "      <td>1.0</td>\n",
       "      <td>94.64</td>\n",
       "      <td>1007687.0</td>\n",
       "      <td>107.794782</td>\n",
       "      <td>105.85</td>\n",
       "    </tr>\n",
       "    <tr>\n",
       "      <th>223875</th>\n",
       "      <td>10102.0</td>\n",
       "      <td>6.99</td>\n",
       "      <td>2012</td>\n",
       "      <td>1.0</td>\n",
       "      <td>98.30</td>\n",
       "      <td>632161633.0</td>\n",
       "      <td>116.755410</td>\n",
       "      <td>112.49</td>\n",
       "    </tr>\n",
       "    <tr>\n",
       "      <th>223876</th>\n",
       "      <td>2.0</td>\n",
       "      <td>5.54</td>\n",
       "      <td>2012</td>\n",
       "      <td>2.0</td>\n",
       "      <td>100.51</td>\n",
       "      <td>713992.0</td>\n",
       "      <td>101.976773</td>\n",
       "      <td>101.97</td>\n",
       "    </tr>\n",
       "    <tr>\n",
       "      <th>223877</th>\n",
       "      <td>2.0</td>\n",
       "      <td>5.54</td>\n",
       "      <td>2012</td>\n",
       "      <td>2.0</td>\n",
       "      <td>102.71</td>\n",
       "      <td>678821.0</td>\n",
       "      <td>106.692928</td>\n",
       "      <td>103.44</td>\n",
       "    </tr>\n",
       "    <tr>\n",
       "      <th>223878</th>\n",
       "      <td>3884.0</td>\n",
       "      <td>7.11</td>\n",
       "      <td>2012</td>\n",
       "      <td>1.0</td>\n",
       "      <td>86.38</td>\n",
       "      <td>88671939.0</td>\n",
       "      <td>107.700109</td>\n",
       "      <td>104.80</td>\n",
       "    </tr>\n",
       "    <tr>\n",
       "      <th>223879</th>\n",
       "      <td>11.0</td>\n",
       "      <td>7.52</td>\n",
       "      <td>2012</td>\n",
       "      <td>1.0</td>\n",
       "      <td>100.00</td>\n",
       "      <td>166.0</td>\n",
       "      <td>0.000000</td>\n",
       "      <td>0.00</td>\n",
       "    </tr>\n",
       "  </tbody>\n",
       "</table>\n",
       "<p>223880 rows × 8 columns</p>\n",
       "</div>"
      ],
      "text/plain": [
       "        ptp_cnt  sb_eff_int_rate_prcnt  year  sf_ind  sb_pr_yr_fndng_prcnt  \\\n",
       "0           3.0                   5.26  2017     1.0                 97.07   \n",
       "1           2.0                   5.72  2017     2.0                117.40   \n",
       "2           6.0                   5.72  2017     2.0                110.49   \n",
       "3          17.0                   5.87  2017     1.0                 85.28   \n",
       "4           1.0                   5.24  2017     1.0                 92.60   \n",
       "5           2.0                   4.16  2017     2.0                101.21   \n",
       "6           2.0                   4.30  2017     2.0                146.27   \n",
       "7           2.0                   5.72  2017     2.0                 89.01   \n",
       "8           1.0                   5.64  2017     1.0                 82.17   \n",
       "9           4.0                   5.63  2017     2.0                111.76   \n",
       "10          5.0                   5.69  2017     2.0                113.84   \n",
       "11          3.0                   6.10  2017     1.0                 96.54   \n",
       "12          6.0                   5.92  2017     2.0                134.66   \n",
       "13         18.0                   4.98  2017     1.0                 82.55   \n",
       "14         11.0                   6.17  2018     2.0                137.94   \n",
       "15         10.0                   5.76  2017     2.0                121.05   \n",
       "16          1.0                   5.68  2017     2.0                102.07   \n",
       "17          4.0                   5.19  2017     2.0                102.45   \n",
       "18          4.0                   5.82  2017     2.0                140.00   \n",
       "19          7.0                   4.41  2017     2.0                145.70   \n",
       "20          1.0                   5.72  2017     2.0                122.35   \n",
       "21          7.0                   5.76  2017     2.0                165.06   \n",
       "22          6.0                   5.89  2017     2.0                134.71   \n",
       "23          3.0                   6.48  2017     2.0                100.00   \n",
       "24          8.0                   5.76  2017     2.0                105.20   \n",
       "25         18.0                   5.75  2017     1.0                 89.74   \n",
       "26         87.0                   5.78  2017     1.0                 90.51   \n",
       "27          3.0                   5.75  2017     2.0                113.36   \n",
       "28         18.0                   5.72  2017     2.0                 99.64   \n",
       "29          8.0                   4.49  2017     2.0                134.39   \n",
       "...         ...                    ...   ...     ...                   ...   \n",
       "223850      2.0                   6.37  2012     2.0                156.07   \n",
       "223851      2.0                   5.67  2012     2.0                192.01   \n",
       "223852      4.0                   7.52  2012     1.0                 83.66   \n",
       "223853      2.0                   7.35  2012     2.0                100.00   \n",
       "223854      6.0                   6.85  2012     2.0                195.88   \n",
       "223855    165.0                   7.08  2012     1.0                 50.91   \n",
       "223856     67.0                   7.03  2012     1.0                 89.10   \n",
       "223857     12.0                   7.22  2012     2.0                104.81   \n",
       "223858      5.0                   5.95  2012     2.0                104.08   \n",
       "223859      3.0                   6.86  2012     1.0                 95.63   \n",
       "223860      3.0                   7.11  2012     2.0                129.32   \n",
       "223861      3.0                   7.48  2012     2.0                100.00   \n",
       "223862      5.0                   6.09  2012     1.0                 82.73   \n",
       "223863      3.0                   6.84  2012     1.0                 68.99   \n",
       "223864      5.0                   7.44  2012     2.0                125.67   \n",
       "223865     69.0                   7.08  2012     1.0                 56.42   \n",
       "223866     15.0                   4.34  2012     2.0                127.30   \n",
       "223867    111.0                   7.05  2012     1.0                 75.30   \n",
       "223868      4.0                   6.67  2012     2.0                232.77   \n",
       "223869     21.0                   7.06  2012     1.0                 18.61   \n",
       "223870      5.0                   6.86  2012     2.0                100.00   \n",
       "223871      8.0                   6.91  2012     2.0                115.75   \n",
       "223872      6.0                   6.80  2012     1.0                 89.85   \n",
       "223873      5.0                   6.85  2012     2.0                 80.00   \n",
       "223874      4.0                   6.27  2012     1.0                 94.64   \n",
       "223875  10102.0                   6.99  2012     1.0                 98.30   \n",
       "223876      2.0                   5.54  2012     2.0                100.51   \n",
       "223877      2.0                   5.54  2012     2.0                102.71   \n",
       "223878   3884.0                   7.11  2012     1.0                 86.38   \n",
       "223879     11.0                   7.52  2012     1.0                100.00   \n",
       "\n",
       "        sb_tot_fndng_tgt_amt      mva_fs  sb_fndng_tgt_prcnt  \n",
       "0                   269963.0  112.685072              112.68  \n",
       "1                  1853763.0  121.439742              121.43  \n",
       "2                   375766.0  108.278024              108.27  \n",
       "3                   974043.0  125.324344               92.24  \n",
       "4                  2385087.0   94.727572               94.72  \n",
       "5                   702486.0  104.451192              104.45  \n",
       "6                  1003627.0  142.651902              142.65  \n",
       "7                   233957.0  100.878794              100.87  \n",
       "8                   747025.0   83.120779               80.00  \n",
       "9                  2870545.0  103.290873              103.29  \n",
       "10                 2523598.0  130.172833              130.17  \n",
       "11                  549101.0   91.934271               91.93  \n",
       "12                  820715.0  115.155566              115.15  \n",
       "13                  296752.0   92.725576               92.72  \n",
       "14                  777750.0  128.895661              128.89  \n",
       "15                  414630.0  115.128669              115.12  \n",
       "16                  252511.0  102.818491              102.81  \n",
       "17                 1360385.0  121.258835              106.26  \n",
       "18                 1828025.0  130.293459              130.29  \n",
       "19                 1184790.0  140.783008              136.03  \n",
       "20                 1749859.0  126.524023              126.52  \n",
       "21                 1716177.0  186.709937              186.70  \n",
       "22                  703802.0  149.462349              141.13  \n",
       "23                   72806.0  148.986347               95.35  \n",
       "24                  780691.0  131.443426              131.44  \n",
       "25                 1035623.0  165.260814               88.83  \n",
       "26                 4377447.0   86.635247               86.63  \n",
       "27                 1306459.0  122.869527              122.86  \n",
       "28                  883593.0  122.174689              122.17  \n",
       "29                  458314.0  117.358623              117.35  \n",
       "...                      ...         ...                 ...  \n",
       "223850              624060.0  137.025126              137.02  \n",
       "223851              346240.0  200.002311              200.00  \n",
       "223852             1284388.0   94.326169               94.32  \n",
       "223853               55483.0    0.000000                0.00  \n",
       "223854             1546659.0  132.206582              132.20  \n",
       "223855             3181528.0   54.497210               56.67  \n",
       "223856             3561039.0  105.252540              102.59  \n",
       "223857               20434.0  124.376040              124.37  \n",
       "223858             1261472.0  103.418308              103.41  \n",
       "223859              728685.0  102.566404              102.56  \n",
       "223860             1366702.0  162.871057              160.23  \n",
       "223861               89338.0    0.000000                0.00  \n",
       "223862              410210.0   96.549085               95.94  \n",
       "223863             1568903.0   99.158457               91.11  \n",
       "223864              292135.0  139.351327              138.08  \n",
       "223865              868409.0   51.906187               51.86  \n",
       "223866              119493.0   95.217293               95.21  \n",
       "223867             3334859.0   84.691347               88.16  \n",
       "223868             1689387.0  381.587286              381.58  \n",
       "223869             1010912.0   22.449432               22.44  \n",
       "223870                   0.0         NaN              100.00  \n",
       "223871             2111055.0  101.833538              101.83  \n",
       "223872             2121204.0   94.519150               85.72  \n",
       "223873              412213.0  143.339487              139.82  \n",
       "223874             1007687.0  107.794782              105.85  \n",
       "223875           632161633.0  116.755410              112.49  \n",
       "223876              713992.0  101.976773              101.97  \n",
       "223877              678821.0  106.692928              103.44  \n",
       "223878            88671939.0  107.700109              104.80  \n",
       "223879                 166.0    0.000000                0.00  \n",
       "\n",
       "[223880 rows x 8 columns]"
      ]
     },
     "execution_count": 17,
     "metadata": {},
     "output_type": "execute_result"
    }
   ],
   "source": [
    "prelim_feat_df"
   ]
  },
  {
   "cell_type": "code",
   "execution_count": 18,
   "metadata": {},
   "outputs": [],
   "source": [
    "prelim_feat_df = prelim_feat_df.dropna(axis=0)"
   ]
  },
  {
   "cell_type": "code",
   "execution_count": 19,
   "metadata": {},
   "outputs": [],
   "source": [
    "y_ava_fs = prelim_feat_df['sb_fndng_tgt_prcnt'].values\n",
    "y_fs = prelim_feat_df['mva_fs'].values\n",
    "y_ft = prelim_feat_df['sb_tot_fndng_tgt_amt'].values"
   ]
  },
  {
   "cell_type": "code",
   "execution_count": 20,
   "metadata": {},
   "outputs": [],
   "source": [
    "X = prelim_feat_df[['ptp_cnt', 'sb_eff_int_rate_prcnt', 'sf_ind', \\\n",
    "                         'sb_pr_yr_fndng_prcnt']]"
   ]
  },
  {
   "cell_type": "code",
   "execution_count": 21,
   "metadata": {},
   "outputs": [
    {
     "name": "stdout",
     "output_type": "stream",
     "text": [
      "<class 'pandas.core.frame.DataFrame'>\n",
      "Int64Index: 205625 entries, 0 to 223879\n",
      "Data columns (total 4 columns):\n",
      "ptp_cnt                  205625 non-null float64\n",
      "sb_eff_int_rate_prcnt    205625 non-null float64\n",
      "sf_ind                   205625 non-null float64\n",
      "sb_pr_yr_fndng_prcnt     205625 non-null float64\n",
      "dtypes: float64(4)\n",
      "memory usage: 7.8 MB\n"
     ]
    }
   ],
   "source": [
    "X.info()"
   ]
  },
  {
   "cell_type": "markdown",
   "metadata": {},
   "source": [
    "<h1>Features EDA</h1>"
   ]
  },
  {
   "cell_type": "code",
   "execution_count": 22,
   "metadata": {},
   "outputs": [],
   "source": [
    "from pandas.plotting import scatter_matrix"
   ]
  },
  {
   "cell_type": "code",
   "execution_count": 23,
   "metadata": {},
   "outputs": [],
   "source": [
    "X2 = prelim_feat_df[['ptp_cnt', 'sb_eff_int_rate_prcnt', 'sf_ind', \\\n",
    "                         'sb_pr_yr_fndng_prcnt', 'sb_fndng_tgt_prcnt']]"
   ]
  },
  {
   "cell_type": "code",
   "execution_count": 24,
   "metadata": {},
   "outputs": [
    {
     "data": {
      "image/png": "[encoded data removed]",
      "text/plain": [
       "<matplotlib.figure.Figure at 0x110eb6240>"
      ]
     },
     "metadata": {},
     "output_type": "display_data"
    }
   ],
   "source": [
    "plt.style.use(['dark_background'])\n",
    "scatter_matrix(X2, alpha=0.6, figsize=(12, 12), diagonal='kde')\n",
    "plt.show()"
   ]
  },
  {
   "cell_type": "markdown",
   "metadata": {},
   "source": [
    "<h3>EIR - restrict to values between 1 and 10 (appear to be invalid data entries)</h3>"
   ]
  },
  {
   "cell_type": "code",
   "execution_count": 46,
   "metadata": {},
   "outputs": [],
   "source": [
    "eir_nonzero = X2[(X2['sb_eff_int_rate_prcnt'] >1) & (X2['sb_eff_int_rate_prcnt'] < 10)]\n",
    "y_eirnonzero = eir_nonzero['sb_fndng_tgt_prcnt'].values"
   ]
  },
  {
   "cell_type": "code",
   "execution_count": 47,
   "metadata": {},
   "outputs": [
    {
     "data": {
      "text/plain": [
       "((205419, 5), (205419,), (205419,))"
      ]
     },
     "execution_count": 47,
     "metadata": {},
     "output_type": "execute_result"
    }
   ],
   "source": [
    "eir_nonzero.shape, y_eirnonzero.shape, eir_nonzero['sb_eff_int_rate_prcnt'].shape"
   ]
  },
  {
   "cell_type": "code",
   "execution_count": 50,
   "metadata": {},
   "outputs": [
    {
     "data": {
      "text/plain": [
       "9.98"
      ]
     },
     "execution_count": 50,
     "metadata": {},
     "output_type": "execute_result"
    }
   ],
   "source": [
    "eir_nonzero['sb_eff_int_rate_prcnt'].max()"
   ]
  },
  {
   "cell_type": "code",
   "execution_count": 51,
   "metadata": {},
   "outputs": [
    {
     "data": {
      "image/png": "[encoded data removed]",
      "text/plain": [
       "<matplotlib.figure.Figure at 0x113b5e978>"
      ]
     },
     "metadata": {},
     "output_type": "display_data"
    }
   ],
   "source": [
    "plt.hist(eir_nonzero['sb_eff_int_rate_prcnt'],bins=100)\n",
    "plt.show()"
   ]
  },
  {
   "cell_type": "code",
   "execution_count": 52,
   "metadata": {},
   "outputs": [
    {
     "data": {
      "image/png": "[encoded data removed]",
      "text/plain": [
       "<matplotlib.figure.Figure at 0x1132c1c50>"
      ]
     },
     "metadata": {},
     "output_type": "display_data"
    }
   ],
   "source": [
    "fig, ax = plt.subplots(1,1,figsize=(8,8))\n",
    "#plt.scatter(X['sb_pr_yr_fndng_prcnt'], y_fs)\n",
    "plt.scatter(eir_nonzero['sb_eff_int_rate_prcnt'], y_eirnonzero)\n",
    "plt.xlabel('Effective Interest Rate')\n",
    "plt.ylabel('Funded Status (AVA basis)')\n",
    "plt.title('FS vs EIR')\n",
    "plt.show()"
   ]
  },
  {
   "cell_type": "code",
   "execution_count": 59,
   "metadata": {},
   "outputs": [
    {
     "data": {
      "text/plain": [
       "count    205419.000000\n",
       "mean        111.736881\n",
       "std          49.150905\n",
       "min           0.000000\n",
       "25%          94.040000\n",
       "50%         104.390000\n",
       "75%         121.030000\n",
       "max         999.990000\n",
       "Name: sb_fndng_tgt_prcnt, dtype: float64"
      ]
     },
     "execution_count": 59,
     "metadata": {},
     "output_type": "execute_result"
    }
   ],
   "source": [
    "eir_nonzero['sb_fndng_tgt_prcnt'].describe()"
   ]
  },
  {
   "cell_type": "code",
   "execution_count": 61,
   "metadata": {},
   "outputs": [
    {
     "data": {
      "text/plain": [
       "4049"
      ]
     },
     "execution_count": 61,
     "metadata": {},
     "output_type": "execute_result"
    }
   ],
   "source": [
    "len(eir_nonzero[eir_nonzero['sb_fndng_tgt_prcnt']> 200])"
   ]
  },
  {
   "cell_type": "code",
   "execution_count": null,
   "metadata": {},
   "outputs": [],
   "source": [
    "plt.hist(y_ava_fs,bins=100)\n",
    "plt.show()"
   ]
  },
  {
   "cell_type": "code",
   "execution_count": null,
   "metadata": {},
   "outputs": [],
   "source": [
    "y_ava_fs.min(), y_ava_fs.max()"
   ]
  },
  {
   "cell_type": "code",
   "execution_count": null,
   "metadata": {},
   "outputs": [],
   "source": []
  }
 ],
 "metadata": {
  "kernelspec": {
   "display_name": "Python 3",
   "language": "python",
   "name": "python3"
  },
  "language_info": {
   "codemirror_mode": {
    "name": "ipython",
    "version": 3
   },
   "file_extension": ".py",
   "mimetype": "text/x-python",
   "name": "python",
   "nbconvert_exporter": "python",
   "pygments_lexer": "ipython3",
   "version": "3.6.4"
  }
 },
 "nbformat": 4,
 "nbformat_minor": 2
}
