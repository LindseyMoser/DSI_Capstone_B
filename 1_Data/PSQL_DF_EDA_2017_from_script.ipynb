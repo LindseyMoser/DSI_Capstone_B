{
 "cells": [
  {
   "cell_type": "code",
   "execution_count": 17,
   "metadata": {},
   "outputs": [],
   "source": [
    "import psycopg2\n",
    "import json\n",
    "import pandas as pd\n",
    "import numpy as np\n",
    "import matplotlib.pyplot as plt\n",
    "%matplotlib inline\n",
    "import seaborn as sns\n",
    "sns.set_style('whitegrid')\n",
    "import warnings\n",
    "warnings.filterwarnings('ignore')"
   ]
  },
  {
   "cell_type": "code",
   "execution_count": 2,
   "metadata": {},
   "outputs": [],
   "source": [
    "from get_clean_data import get_data, clean_data"
   ]
  },
  {
   "cell_type": "code",
   "execution_count": 3,
   "metadata": {},
   "outputs": [],
   "source": [
    "prelim_df = get_data()"
   ]
  },
  {
   "cell_type": "code",
   "execution_count": 4,
   "metadata": {},
   "outputs": [],
   "source": [
    "X, y = clean_data(prelim_df, True)"
   ]
  },
  {
   "cell_type": "code",
   "execution_count": 6,
   "metadata": {
    "scrolled": true
   },
   "outputs": [
    {
     "data": {
      "text/plain": [
       "sb_tot_partcp_cnt        9113\n",
       "sb_eff_int_rate_prcnt    9113\n",
       "sb_fndng_short_ind       9113\n",
       "sb_pr_yr_fndng_prcnt     9113\n",
       "11                       9113\n",
       "21                       9113\n",
       "22                       9113\n",
       "23                       9113\n",
       "31                       9113\n",
       "32                       9113\n",
       "33                       9113\n",
       "42                       9113\n",
       "44                       9113\n",
       "45                       9113\n",
       "48                       9113\n",
       "49                       9113\n",
       "51                       9113\n",
       "52                       9113\n",
       "53                       9113\n",
       "54                       9113\n",
       "55                       9113\n",
       "56                       9113\n",
       "61                       9113\n",
       "62                       9113\n",
       "71                       9113\n",
       "72                       9113\n",
       "81                       9113\n",
       "92                       9113\n",
       "dtype: int64"
      ]
     },
     "execution_count": 6,
     "metadata": {},
     "output_type": "execute_result"
    }
   ],
   "source": [
    "pd.notnull(X).sum()"
   ]
  },
  {
   "cell_type": "code",
   "execution_count": 5,
   "metadata": {
    "scrolled": true
   },
   "outputs": [
    {
     "name": "stdout",
     "output_type": "stream",
     "text": [
      "<class 'pandas.core.frame.DataFrame'>\n",
      "Int64Index: 14835 entries, 0 to 24263\n",
      "Data columns (total 28 columns):\n",
      "sb_tot_partcp_cnt        9113 non-null float64\n",
      "sb_eff_int_rate_prcnt    9113 non-null float64\n",
      "sb_fndng_short_ind       9113 non-null float64\n",
      "sb_pr_yr_fndng_prcnt     9113 non-null float64\n",
      "11                       9113 non-null float64\n",
      "21                       9113 non-null float64\n",
      "22                       9113 non-null float64\n",
      "23                       9113 non-null float64\n",
      "31                       9113 non-null float64\n",
      "32                       9113 non-null float64\n",
      "33                       9113 non-null float64\n",
      "42                       9113 non-null float64\n",
      "44                       9113 non-null float64\n",
      "45                       9113 non-null float64\n",
      "48                       9113 non-null float64\n",
      "49                       9113 non-null float64\n",
      "51                       9113 non-null float64\n",
      "52                       9113 non-null float64\n",
      "53                       9113 non-null float64\n",
      "54                       9113 non-null float64\n",
      "55                       9113 non-null float64\n",
      "56                       9113 non-null float64\n",
      "61                       9113 non-null float64\n",
      "62                       9113 non-null float64\n",
      "71                       9113 non-null float64\n",
      "72                       9113 non-null float64\n",
      "81                       9113 non-null float64\n",
      "92                       9113 non-null float64\n",
      "dtypes: float64(28)\n",
      "memory usage: 3.3 MB\n"
     ]
    }
   ],
   "source": [
    "X.info()"
   ]
  },
  {
   "cell_type": "markdown",
   "metadata": {},
   "source": [
    "<h1>Features EDA</h1>"
   ]
  },
  {
   "cell_type": "markdown",
   "metadata": {},
   "source": [
    "<h3>EIR - restrict to values between 1 and 10 (appear to be invalid data entries)</h3>"
   ]
  },
  {
   "cell_type": "code",
   "execution_count": 8,
   "metadata": {},
   "outputs": [],
   "source": [
    "X2=X[['sb_tot_partcp_cnt','sb_eff_int_rate_prcnt','sb_fndng_short_ind','sb_pr_yr_fndng_prcnt']]"
   ]
  },
  {
   "cell_type": "code",
   "execution_count": 10,
   "metadata": {},
   "outputs": [
    {
     "data": {
      "text/html": [
       "<div>\n",
       "<style scoped>\n",
       "    .dataframe tbody tr th:only-of-type {\n",
       "        vertical-align: middle;\n",
       "    }\n",
       "\n",
       "    .dataframe tbody tr th {\n",
       "        vertical-align: top;\n",
       "    }\n",
       "\n",
       "    .dataframe thead th {\n",
       "        text-align: right;\n",
       "    }\n",
       "</style>\n",
       "<table border=\"1\" class=\"dataframe\">\n",
       "  <thead>\n",
       "    <tr style=\"text-align: right;\">\n",
       "      <th></th>\n",
       "      <th>sb_tot_partcp_cnt</th>\n",
       "      <th>sb_eff_int_rate_prcnt</th>\n",
       "      <th>sb_fndng_short_ind</th>\n",
       "      <th>sb_pr_yr_fndng_prcnt</th>\n",
       "    </tr>\n",
       "  </thead>\n",
       "  <tbody>\n",
       "    <tr>\n",
       "      <th>count</th>\n",
       "      <td>5865.000000</td>\n",
       "      <td>5865.000000</td>\n",
       "      <td>5865.000000</td>\n",
       "      <td>5865.000000</td>\n",
       "    </tr>\n",
       "    <tr>\n",
       "      <th>mean</th>\n",
       "      <td>14.419267</td>\n",
       "      <td>6.067153</td>\n",
       "      <td>1.630009</td>\n",
       "      <td>114.258479</td>\n",
       "    </tr>\n",
       "    <tr>\n",
       "      <th>std</th>\n",
       "      <td>21.499159</td>\n",
       "      <td>15.886210</td>\n",
       "      <td>0.482843</td>\n",
       "      <td>58.498407</td>\n",
       "    </tr>\n",
       "    <tr>\n",
       "      <th>min</th>\n",
       "      <td>0.000000</td>\n",
       "      <td>0.000000</td>\n",
       "      <td>1.000000</td>\n",
       "      <td>0.000000</td>\n",
       "    </tr>\n",
       "    <tr>\n",
       "      <th>25%</th>\n",
       "      <td>3.000000</td>\n",
       "      <td>5.530000</td>\n",
       "      <td>1.000000</td>\n",
       "      <td>93.290000</td>\n",
       "    </tr>\n",
       "    <tr>\n",
       "      <th>50%</th>\n",
       "      <td>6.000000</td>\n",
       "      <td>5.740000</td>\n",
       "      <td>2.000000</td>\n",
       "      <td>103.240000</td>\n",
       "    </tr>\n",
       "    <tr>\n",
       "      <th>75%</th>\n",
       "      <td>13.000000</td>\n",
       "      <td>5.890000</td>\n",
       "      <td>2.000000</td>\n",
       "      <td>121.780000</td>\n",
       "    </tr>\n",
       "    <tr>\n",
       "      <th>max</th>\n",
       "      <td>99.000000</td>\n",
       "      <td>608.000000</td>\n",
       "      <td>2.000000</td>\n",
       "      <td>999.990000</td>\n",
       "    </tr>\n",
       "  </tbody>\n",
       "</table>\n",
       "</div>"
      ],
      "text/plain": [
       "       sb_tot_partcp_cnt  sb_eff_int_rate_prcnt  sb_fndng_short_ind  \\\n",
       "count        5865.000000            5865.000000         5865.000000   \n",
       "mean           14.419267               6.067153            1.630009   \n",
       "std            21.499159              15.886210            0.482843   \n",
       "min             0.000000               0.000000            1.000000   \n",
       "25%             3.000000               5.530000            1.000000   \n",
       "50%             6.000000               5.740000            2.000000   \n",
       "75%            13.000000               5.890000            2.000000   \n",
       "max            99.000000             608.000000            2.000000   \n",
       "\n",
       "       sb_pr_yr_fndng_prcnt  \n",
       "count           5865.000000  \n",
       "mean             114.258479  \n",
       "std               58.498407  \n",
       "min                0.000000  \n",
       "25%               93.290000  \n",
       "50%              103.240000  \n",
       "75%              121.780000  \n",
       "max              999.990000  "
      ]
     },
     "execution_count": 10,
     "metadata": {},
     "output_type": "execute_result"
    }
   ],
   "source": [
    "X2[X2['sb_tot_partcp_cnt']<=100].describe()"
   ]
  },
  {
   "cell_type": "code",
   "execution_count": 11,
   "metadata": {
    "scrolled": true
   },
   "outputs": [
    {
     "data": {
      "image/png": "[encoded data removed]",
      "text/plain": [
       "<matplotlib.figure.Figure at 0x1a177e34e0>"
      ]
     },
     "metadata": {},
     "output_type": "display_data"
    }
   ],
   "source": [
    "plt.hist(X2[(X2['sb_tot_partcp_cnt']<4000) & (X2['sb_tot_partcp_cnt']>100)]['sb_tot_partcp_cnt'],bins=100)\n",
    "plt.title('Distribution of Participant Count (100 < PC < 4000)')\n",
    "plt.show()"
   ]
  },
  {
   "cell_type": "code",
   "execution_count": 18,
   "metadata": {},
   "outputs": [
    {
     "data": {
      "image/png": "[encoded data removed]",
      "text/plain": [
       "<matplotlib.figure.Figure at 0x1a220a41d0>"
      ]
     },
     "metadata": {},
     "output_type": "display_data"
    }
   ],
   "source": [
    "sns.distplot(X2[(X2['sb_tot_partcp_cnt']<4000) & (X2['sb_tot_partcp_cnt']>100)]['sb_tot_partcp_cnt'],\\\n",
    "            bins=100)\n",
    "plt.title('Distribution of Participant Count (100 < PC < 4000)')\n",
    "plt.show()"
   ]
  },
  {
   "cell_type": "code",
   "execution_count": 19,
   "metadata": {},
   "outputs": [
    {
     "data": {
      "image/png": "[encoded data removed]",
      "text/plain": [
       "<matplotlib.figure.Figure at 0x1a22100160>"
      ]
     },
     "metadata": {},
     "output_type": "display_data"
    }
   ],
   "source": [
    "sns.distplot(X2[(X2['sb_tot_partcp_cnt']<1000) & (X2['sb_tot_partcp_cnt']>100)]['sb_tot_partcp_cnt'],\\\n",
    "            bins=100)\n",
    "plt.title('Distribution of Participant Count (100 < PC < 1000)')\n",
    "plt.show()"
   ]
  },
  {
   "cell_type": "code",
   "execution_count": 26,
   "metadata": {},
   "outputs": [
    {
     "ename": "AttributeError",
     "evalue": "module 'seaborn' has no attribute 'scatterplot'",
     "output_type": "error",
     "traceback": [
      "\u001b[0;31m---------------------------------------------------------------------------\u001b[0m",
      "\u001b[0;31mAttributeError\u001b[0m                            Traceback (most recent call last)",
      "\u001b[0;32m<ipython-input-26-1298a165058c>\u001b[0m in \u001b[0;36m<module>\u001b[0;34m()\u001b[0m\n\u001b[1;32m      1\u001b[0m \u001b[0mfig\u001b[0m\u001b[0;34m,\u001b[0m \u001b[0max\u001b[0m \u001b[0;34m=\u001b[0m \u001b[0mplt\u001b[0m\u001b[0;34m.\u001b[0m\u001b[0msubplots\u001b[0m\u001b[0;34m(\u001b[0m\u001b[0;36m1\u001b[0m\u001b[0;34m,\u001b[0m\u001b[0;36m1\u001b[0m\u001b[0;34m,\u001b[0m \u001b[0mfigsize\u001b[0m\u001b[0;34m=\u001b[0m\u001b[0;34m(\u001b[0m\u001b[0;36m8\u001b[0m\u001b[0;34m,\u001b[0m\u001b[0;36m8\u001b[0m\u001b[0;34m)\u001b[0m\u001b[0;34m)\u001b[0m\u001b[0;34m\u001b[0m\u001b[0m\n\u001b[0;32m----> 2\u001b[0;31m \u001b[0max\u001b[0m \u001b[0;34m=\u001b[0m \u001b[0msns\u001b[0m\u001b[0;34m.\u001b[0m\u001b[0mscatterplot\u001b[0m\u001b[0;34m(\u001b[0m\u001b[0mx\u001b[0m\u001b[0;34m=\u001b[0m\u001b[0mX2\u001b[0m\u001b[0;34m[\u001b[0m\u001b[0;34m'sb_tot_partcp_cnt'\u001b[0m\u001b[0;34m]\u001b[0m\u001b[0;34m,\u001b[0m \u001b[0my\u001b[0m\u001b[0;34m=\u001b[0m\u001b[0my\u001b[0m\u001b[0;34m)\u001b[0m\u001b[0;34m\u001b[0m\u001b[0m\n\u001b[0m\u001b[1;32m      3\u001b[0m \u001b[0mplt\u001b[0m\u001b[0;34m.\u001b[0m\u001b[0mtitle\u001b[0m\u001b[0;34m(\u001b[0m\u001b[0;34m'Participant Count vs Funded Status'\u001b[0m\u001b[0;34m)\u001b[0m\u001b[0;34m\u001b[0m\u001b[0m\n\u001b[1;32m      4\u001b[0m \u001b[0mplt\u001b[0m\u001b[0;34m.\u001b[0m\u001b[0mshow\u001b[0m\u001b[0;34m(\u001b[0m\u001b[0;34m)\u001b[0m\u001b[0;34m\u001b[0m\u001b[0m\n",
      "\u001b[0;31mAttributeError\u001b[0m: module 'seaborn' has no attribute 'scatterplot'"
     ]
    },
    {
     "data": {
      "image/png": "[encoded data removed]",
      "text/plain": [
       "<matplotlib.figure.Figure at 0x1a2286ca58>"
      ]
     },
     "metadata": {},
     "output_type": "display_data"
    }
   ],
   "source": [
    "fig, ax = plt.subplots(1,1, figsize=(8,8))\n",
    "ax = sns.scatterplot(x=X2['sb_tot_partcp_cnt'], y=y)\n",
    "plt.title('Participant Count vs Funded Status')\n",
    "plt.show()"
   ]
  },
  {
   "cell_type": "code",
   "execution_count": null,
   "metadata": {},
   "outputs": [],
   "source": [
    "eir_nonzero = X2[(X2['sb_eff_int_rate_prcnt'] >1) & (X2['sb_eff_int_rate_prcnt'] < 10) \\\n",
    "                & (X2['sb_fndng_tgt_prcnt'] > 0) & (X2['sb_fndng_tgt_prcnt'] < 400) & (X2['sb_plan_type_code'] == '1')]\n",
    "y_eirnonzero = eir_nonzero['sb_fndng_tgt_prcnt'].values"
   ]
  },
  {
   "cell_type": "code",
   "execution_count": null,
   "metadata": {},
   "outputs": [],
   "source": [
    "eir_nonzero.shape, y_eirnonzero.shape, eir_nonzero['sb_eff_int_rate_prcnt'].shape"
   ]
  },
  {
   "cell_type": "code",
   "execution_count": null,
   "metadata": {},
   "outputs": [],
   "source": [
    "eir_nonzero['sb_eff_int_rate_prcnt'].describe()"
   ]
  },
  {
   "cell_type": "code",
   "execution_count": null,
   "metadata": {},
   "outputs": [],
   "source": [
    "plt.hist(eir_nonzero['sb_eff_int_rate_prcnt'],bins=100)\n",
    "plt.title('Distribution of EIR (1.0 < EIR < 10.0)')\n",
    "plt.show()"
   ]
  },
  {
   "cell_type": "code",
   "execution_count": null,
   "metadata": {},
   "outputs": [],
   "source": [
    "fig, ax = plt.subplots(1,1,figsize=(8,8))\n",
    "#plt.scatter(X['sb_pr_yr_fndng_prcnt'], y_fs)\n",
    "plt.scatter(eir_nonzero['sb_eff_int_rate_prcnt'], y_eirnonzero)\n",
    "plt.xlabel('Effective Interest Rate')\n",
    "plt.ylabel('Funded Status (AVA basis)')\n",
    "plt.title('FS vs EIR')\n",
    "plt.show()"
   ]
  },
  {
   "cell_type": "code",
   "execution_count": null,
   "metadata": {
    "scrolled": true
   },
   "outputs": [],
   "source": [
    "pd.DataFrame(eir_nonzero['sb_eff_int_rate_prcnt']).boxplot(sym=)\n",
    "plt.show()"
   ]
  },
  {
   "cell_type": "code",
   "execution_count": null,
   "metadata": {},
   "outputs": [],
   "source": [
    "sns.boxplot(pd.DataFrame(eir_nonzero['sb_eff_int_rate_prcnt']))\n",
    "plt.title('Boxplot of EIR')\n",
    "plt.show()"
   ]
  },
  {
   "cell_type": "code",
   "execution_count": null,
   "metadata": {},
   "outputs": [],
   "source": [
    "eir_nonzero['sb_eff_int_rate_prcnt'].describe()"
   ]
  },
  {
   "cell_type": "code",
   "execution_count": null,
   "metadata": {},
   "outputs": [],
   "source": [
    "sns.boxplot(prelim_feat_df['sb_fndng_tgt_prcnt'])\n",
    "plt.title('Boxplot of FS - all plans')\n",
    "plt.show()"
   ]
  },
  {
   "cell_type": "code",
   "execution_count": null,
   "metadata": {},
   "outputs": [],
   "source": [
    "sns.boxplot(eir_nonzero['sb_fndng_tgt_prcnt'])\n",
    "plt.title('Boxplot of FS (0<FS<400%)')\n",
    "plt.show()"
   ]
  },
  {
   "cell_type": "code",
   "execution_count": null,
   "metadata": {},
   "outputs": [],
   "source": []
  }
 ],
 "metadata": {
  "kernelspec": {
   "display_name": "Python 3",
   "language": "python",
   "name": "python3"
  },
  "language_info": {
   "codemirror_mode": {
    "name": "ipython",
    "version": 3
   },
   "file_extension": ".py",
   "mimetype": "text/x-python",
   "name": "python",
   "nbconvert_exporter": "python",
   "pygments_lexer": "ipython3",
   "version": "3.6.4"
  }
 },
 "nbformat": 4,
 "nbformat_minor": 2
}
